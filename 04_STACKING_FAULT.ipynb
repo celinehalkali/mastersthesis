{
 "cells": [
  {
   "cell_type": "markdown",
   "metadata": {},
   "source": [
    "# Calculation 04 - Stacking fault energies\n",
    "The following notebook will calculate the intrinsic and extrinsic stacking fault energies of Nickel-based EAM and MEAM potentials. The first cell needs updating depending on the potential file you are using and the compound you want to run the calculation for.\\\n",
    "At the end of the notebook, there is a \"fast run\" which will allow you to run this notebook for all potentials and both stacking faults in one go."
   ]
  },
  {
   "cell_type": "markdown",
   "metadata": {},
   "source": [
    "## 📌 Specify filenames and element related data\n",
    "For any potential, please specify the filename of the potential file as follows:\\\n",
    "`potentials/filename.eam`\\\n",
    "`potentials/filename.eam.fs`\\\n",
    "`potentials/filename.eam.alloy`\\\n",
    "`potentials/filename.meam`\n",
    "\n",
    "Then uncomment the respective lines, depending on which compound you want to run the calculation for.\n",
    "\n",
    "**Note:** to call Non-LAMMPS variables within a LAMMPS command, please use an f-string. To call LAMMPS variables, instead of using an f-string, just use curly braces with a leading dollar sign - like this: `${x}`."
   ]
  },
  {
   "cell_type": "code",
   "execution_count": null,
   "metadata": {},
   "outputs": [],
   "source": [
    "potentialpath = \"potentials/Ni1986.eam\"\n",
    "latticeconstant = 3.52\n",
    "stackingfault = \"extrinsic\"\n",
    "outputfile = \"data/04_stacking-faults_\"+stackingfault+\".dat\""
   ]
  },
  {
   "cell_type": "markdown",
   "metadata": {},
   "source": [
    "## ⬇️ Import PyLammps module"
   ]
  },
  {
   "cell_type": "code",
   "execution_count": null,
   "metadata": {},
   "outputs": [],
   "source": [
    "from lammps import PyLammps\n",
    "lmp = PyLammps()\n",
    "\n",
    "lmp.clear()"
   ]
  },
  {
   "cell_type": "markdown",
   "metadata": {},
   "source": [
    "## ⬇️ Add parameters for MEAM potentials\n",
    "There is no need to change the following cell. It defines two parameters that are necessary for reading in MEAM potentials.\\\n",
    "**Please do note that the libraryelements variable has to contain the element symbols in the same order as they appear in the library file!**"
   ]
  },
  {
   "cell_type": "code",
   "execution_count": null,
   "metadata": {},
   "outputs": [],
   "source": [
    "if \"meam\" in potentialpath:\n",
    "    libraryfile = str(potentialpath.replace('.meam', '.library.meam'))\n",
    "    \n",
    "    if \"NiAlCo2\" in potentialpath:\n",
    "        libraryelements = \"Ni Al Co\"\n",
    "    elif \"NiAl2\" in potentialpath:\n",
    "        libraryelements = \"Al Ni\"\n",
    "    else:\n",
    "        libraryelements = \"Ni\""
   ]
  },
  {
   "cell_type": "markdown",
   "metadata": {},
   "source": [
    "## ⬇️ Initialize simulation\n",
    "`units` sets the unit system for this simulation. \"metal\" units are Angstroms for distance, eV for energy, etc.\\\n",
    "`dimension` is self-explanatory and can either be 2 or 3.\\\n",
    "`boundary` sets the boundary conditions in x-, y- and z-direction. Here, they are periodic in the x and y dimensions, but non-periodic and shrink-wrapped in the z dimension.\\\n",
    "`atom_style` specifies additional attributes depending on the style - \"atomic\" doesn't have any."
   ]
  },
  {
   "cell_type": "code",
   "execution_count": null,
   "metadata": {},
   "outputs": [],
   "source": [
    "lmp.units('metal')\n",
    "lmp.dimension('3')\n",
    "lmp.boundary('p p s')\n",
    "lmp.atom_style('atomic')"
   ]
  },
  {
   "cell_type": "markdown",
   "metadata": {},
   "source": [
    "## ⬇️ Create atoms\n",
    "`lattice` specifies the predefined or customized lattice and the respective lattice constant.\\\n",
    "`region` specifies the simulation cell as a geometric shape, like a sphere, cylinder or block. The default coordinate unit is a \"lattice parameter\", meaning each coordinate is an integer factor times the lattice parameter specified in the `lattice` command. \"cell\" is the user-assigned ID for this specific region, but could also be called \"1\", \"a\" or anything else. For periodic boundary conditions, the cell dimensions should be multiples of the lattice constant to prevent unwanted overlaps (as explained in the documentation for the `create_atoms` command).\\\n",
    "`create_box` actually creates the simulation cell as defined in the `region` command. The integer defines the number of element types that will be used, the string defines the region in which the cell will be created.\\\n",
    "`create_atoms` adds atoms to the lattice within a specific region, so this has to happen after defining and creating the simulation box. The integer defines the number of element types used.\\\n",
    "`replicate` would allow to change the size of the simulation, and in this position is equivalent to changing the coordinates in the `region` command.\n",
    "`mass` does not need to specified for any EAM or MEAM potential since it is used from the potential file itself."
   ]
  },
  {
   "cell_type": "code",
   "execution_count": null,
   "metadata": {},
   "outputs": [],
   "source": [
    "lmp.variable(f'a_to_b equal -1*({latticeconstant}/sqrt(6))')\n",
    "lmp.variable(f'a_to_c equal 1*({latticeconstant}/sqrt(6))')\n",
    "\n",
    "lmp.variable(f'x equal {latticeconstant}*20*sqrt(6)/4')\n",
    "lmp.variable(f'y equal {latticeconstant}*10*sqrt(2)/2')\n",
    "\n",
    "lmp.variable('zero equal -0.001')\n",
    "\n",
    "if stackingfault == \"intrinsic\":\n",
    "    lmp.variable(f'z1 equal {latticeconstant}*8.5*sqrt(3)/3')\n",
    "    lmp.variable(f'z2 equal {latticeconstant}*17.5*sqrt(3)/3') \n",
    "\n",
    "    lmp.lattice(f'fcc {latticeconstant} orient x 1 1 2 orient y -1 1 0 orient z -1 -1 1')\n",
    "\n",
    "    lmp.region('bottom block ${zero} ${x} ${zero} ${y} ${zero} ${z1} units box')\n",
    "    lmp.region('top block ${zero} ${x} ${zero} ${y} ${z1} ${z2} units box')\n",
    "\n",
    "    lmp.region('cell block 0 ${x} 0 ${y} 0 ${z2} units box')\n",
    "\n",
    "    lmp.create_box('1 cell')\n",
    "\n",
    "    lmp.create_atoms('1 region bottom')\n",
    "    lmp.create_atoms('1 region top')\n",
    "\n",
    "elif stackingfault == \"extrinsic\":\n",
    "    lmp.variable(f'z1 equal {latticeconstant}*8.5*sqrt(3)/3')\n",
    "    lmp.variable(f'z2 equal {latticeconstant}*9.5*sqrt(3)/3')\n",
    "    lmp.variable(f'z3 equal {latticeconstant}*17.5*sqrt(3)/3')\n",
    "\n",
    "    lmp.lattice(f'fcc {latticeconstant} orient x 1 1 2 orient y -1 1 0 orient z -1 -1 1')\n",
    "\n",
    "    lmp.region('bottom block ${zero} ${x} ${zero} ${y} ${zero} ${z1} units box')\n",
    "    lmp.region('middle block ${zero} ${x} ${zero} ${y} ${z1} ${z2} units box')\n",
    "    lmp.region('top block ${zero} ${x} ${zero} ${y} ${z2} ${z3} units box')\n",
    "\n",
    "    lmp.region('cell block 0 ${x} 0 ${y} 0 ${z3} units box')\n",
    "\n",
    "    lmp.create_box('1 cell')\n",
    "\n",
    "    lmp.create_atoms('1 region bottom')\n",
    "    lmp.create_atoms('1 region middle')\n",
    "    lmp.create_atoms('1 region top')"
   ]
  },
  {
   "cell_type": "markdown",
   "metadata": {},
   "source": [
    "## ⬇️ Read in potential file\n",
    "`pair_style` specifies what kind of interatomic potential will be used.\\\n",
    "`pair_coeff` specifies the potential file to be read in. The input parameters change depending on the potential style. that the pair potential coefficients are stored in. The first two integers define the force field coefficients between atom pairs. The asterisks include all atom types.\\\n",
    "`neighbor` and `neigh_modify` would set parameters for the neighbor lists - the default parameters when the commands are not used can be found in the LAMMPS documentation."
   ]
  },
  {
   "cell_type": "code",
   "execution_count": null,
   "metadata": {},
   "outputs": [],
   "source": [
    "if \"meam\" in potentialpath:\n",
    "    lmp.pair_style('meam')\n",
    "    lmp.pair_coeff(f'* * {libraryfile} {libraryelements} {potentialpath} Ni')\n",
    "elif \"eam.alloy\" in potentialpath:\n",
    "    lmp.pair_style('eam/alloy')\n",
    "    lmp.pair_coeff(f'* * {potentialpath} Ni')\n",
    "elif \"eam.fs\" in potentialpath:\n",
    "    lmp.pair_style('eam/fs')\n",
    "    lmp.pair_coeff(f'* * {potentialpath} Ni')\n",
    "else:\n",
    "    lmp.pair_style('eam')\n",
    "    lmp.pair_coeff(f'* * {potentialpath}')"
   ]
  },
  {
   "cell_type": "markdown",
   "metadata": {},
   "source": [
    "## ⬇️ Define computes\n",
    "`compute`s define \"formulas\" that can later on be computed at each timestep of e.g. a thermodynamic run, minimization or dump output.\\\n",
    "The first one allows to store the potential energy for each atom during any \"run\".\\\n",
    "The second one uses the first one, summing up the potential energies of all atoms in the system.\\\n",
    "The third one allows to calculate the centro-symmetry parameter."
   ]
  },
  {
   "cell_type": "code",
   "execution_count": null,
   "metadata": {},
   "outputs": [],
   "source": [
    "lmp.compute('Epot all pe/atom')\n",
    "lmp.compute('Epotall all reduce sum c_Epot')\n",
    "lmp.compute('Csym all centro/atom fcc')"
   ]
  },
  {
   "cell_type": "markdown",
   "metadata": {},
   "source": [
    "## ⬇️ Define thermo settings\n",
    "`min_style` would set which minimization algorithm should be used for the minimization. The default value is `cg` - conjugate gradient.\\\n",
    "`thermo` sets the timestep interval at which computes shall be performed and printed during the run.\\\n",
    "`thermo_style` allows to specify what information shall be printed at each of those timesteps - in this case, it is customized to calculate and print the timestep, the length of the simulation box in x, y and z direction, and the total potential energy of the system."
   ]
  },
  {
   "cell_type": "code",
   "execution_count": null,
   "metadata": {},
   "outputs": [],
   "source": [
    "lmp.thermo(10)\n",
    "lmp.thermo_style('custom step lx ly lz pe c_Epotall')"
   ]
  },
  {
   "cell_type": "markdown",
   "metadata": {},
   "source": [
    "## ⬇️ Define dump file\n",
    "`dump` will print the defined properties in a dump file at the desired timestep interval. With these files, the simulation can be visualized using software like OVITO."
   ]
  },
  {
   "cell_type": "code",
   "execution_count": null,
   "metadata": {},
   "outputs": [],
   "source": [
    "lmp.dump('dump all cfg 1000 dump/04-'+stackingfault+'.*.cfg mass type xs ys zs c_Csym c_Epot')\n",
    "lmp.dump_modify('dump element Ni')"
   ]
  },
  {
   "cell_type": "markdown",
   "metadata": {},
   "source": [
    "## ⬇️ Run minimization I\n",
    "`minimize`s the energy of the simulation cell, printing out the desired information (as specified in `thermo_style`) at every `thermo(10)`th timestep."
   ]
  },
  {
   "cell_type": "code",
   "execution_count": null,
   "metadata": {},
   "outputs": [],
   "source": [
    "lmp.minimize('1e-10 1e-10 10000 100000')"
   ]
  },
  {
   "cell_type": "markdown",
   "metadata": {},
   "source": [
    "## ⬇️ Define variable formulas\n",
    "This section defines some `variable`s by assigning variables to a formula that are not yet evaluated.\\\n",
    "The first one is the total energy of the simulation cell E, the second one the area of the stacking fault plane. "
   ]
  },
  {
   "cell_type": "code",
   "execution_count": null,
   "metadata": {},
   "outputs": [],
   "source": [
    "lmp.variable('E equal \"c_Epotall\"')\n",
    "lmp.variable('A equal \"lx*ly*1e-20\"')"
   ]
  },
  {
   "cell_type": "markdown",
   "metadata": {},
   "source": [
    "## ⬇️ Calculate properties I\n",
    "Here, the formula defined above is calculated with the current value of the formula variable and stored in a new variable."
   ]
  },
  {
   "cell_type": "code",
   "execution_count": null,
   "metadata": {},
   "outputs": [],
   "source": [
    "lmp.variable('Ei equal $E')"
   ]
  },
  {
   "cell_type": "markdown",
   "metadata": {},
   "source": [
    "## ⬇️ Generate stacking fault\n",
    "`group` assigns all atoms in a region (specified in \"Create atoms\") to the respective group. Even if atoms move out of the original region, they will remain in the group they were assigned to.\\\n",
    "`displace_atoms` actually displaces the atom(s) in the defined group."
   ]
  },
  {
   "cell_type": "code",
   "execution_count": null,
   "metadata": {},
   "outputs": [],
   "source": [
    "if stackingfault == \"intrinsic\":\n",
    "    lmp.group('top region top')\n",
    "\n",
    "    lmp.displace_atoms('top move ${a_to_b} 0 0 units box')\n",
    "    \n",
    "elif stackingfault == \"extrinsic\":\n",
    "    lmp.group('top region top')\n",
    "    lmp.group('middle region middle')\n",
    "\n",
    "    lmp.displace_atoms('middle move ${a_to_b} 0 0 units box')\n",
    "    lmp.displace_atoms('top move ${a_to_c} 0 0 units box')"
   ]
  },
  {
   "cell_type": "markdown",
   "metadata": {},
   "source": [
    "## ⬇️ Define fix\n",
    "`fix` applies specific operations to a specified group of atoms (in this case, `all` of them). Here, the operation is to set the  force on all atoms in x- and y-direction to zero and leave it unchanged in z-direction, in which the stacking fault was introduced."
   ]
  },
  {
   "cell_type": "code",
   "execution_count": null,
   "metadata": {},
   "outputs": [],
   "source": [
    "lmp.fix('1 all setforce 0 0 NULL')"
   ]
  },
  {
   "cell_type": "markdown",
   "metadata": {},
   "source": [
    "## ⬇️ Run minimization II\n",
    "`minimize`s the energy of the simulation cell, using the parameters defined in `fix(1)` and printing out the desired information (as specified in `thermo_style`) at every `thermo(10)`th timestep."
   ]
  },
  {
   "cell_type": "code",
   "execution_count": null,
   "metadata": {},
   "outputs": [],
   "source": [
    "lmp.minimize('1e-10 1e-10 10000 100000')"
   ]
  },
  {
   "cell_type": "markdown",
   "metadata": {},
   "source": [
    "## ⬇️ Calculate properties II\n",
    "Again, the formula defined above is calculated with the current value of the formula variable and stored in a new variable.\n",
    "A second variable, calculating the stacking fault energy, is defined and will be calculated in the `print` command with the current variable values."
   ]
  },
  {
   "cell_type": "code",
   "execution_count": null,
   "metadata": {},
   "outputs": [],
   "source": [
    "lmp.variable('Ef equal $E')\n",
    "\n",
    "lmp.variable('J_to_eV equal 1.60217657e-16')\n",
    "lmp.variable('Esf equal ((${Ef}-${Ei})*${J_to_eV})/${A}')"
   ]
  },
  {
   "cell_type": "markdown",
   "metadata": {},
   "source": [
    "## ⬇️ Undump\n",
    "Close dump file."
   ]
  },
  {
   "cell_type": "code",
   "execution_count": null,
   "metadata": {},
   "outputs": [],
   "source": [
    "lmp.undump('dump')"
   ]
  },
  {
   "cell_type": "markdown",
   "metadata": {},
   "source": [
    "## ⬇️ Print desired output\n",
    "This section `print`s these values to the output file, for which you chose a filename in the beginning."
   ]
  },
  {
   "cell_type": "code",
   "execution_count": null,
   "metadata": {},
   "outputs": [],
   "source": [
    "potentialname = potentialpath.replace('potentials/', '')\n",
    "\n",
    "lmp.print(f'\"{potentialname}'+', ${Ei}, ${Ef}, ${Esf}\" append '+f'{outputfile} screen no')"
   ]
  },
  {
   "cell_type": "markdown",
   "metadata": {},
   "source": [
    "🏁**ALL DONE!**🏁"
   ]
  },
  {
   "cell_type": "raw",
   "metadata": {},
   "source": [
    "def stackingfault(stackingfault, latticeconstant, outputfile, potentialpath):\n",
    "    lmp.clear()\n",
    "\n",
    "    if \"meam\" in potentialpath:\n",
    "        libraryfile = str(potentialpath.replace('.meam', '.library.meam'))\n",
    "    \n",
    "    if \"NiAlCo2\" in potentialpath:\n",
    "        libraryelements = \"Ni Al Co\"\n",
    "    elif \"NiAl2\" in potentialpath:\n",
    "        libraryelements = \"Al Ni\"\n",
    "    else:\n",
    "        libraryelements = \"Ni\"\n",
    "\n",
    "    lmp.units('metal')\n",
    "    lmp.dimension('3')\n",
    "    lmp.boundary('p p s')\n",
    "    lmp.atom_style('atomic')\n",
    "    \n",
    "    lmp.variable(f'a_to_b equal -1*({latticeconstant}/sqrt(6))')\n",
    "    lmp.variable(f'a_to_c equal 1*({latticeconstant}/sqrt(6))')\n",
    "\n",
    "    lmp.variable(f'x equal {latticeconstant}*20*sqrt(6)/4')\n",
    "    lmp.variable(f'y equal {latticeconstant}*10*sqrt(2)/2')\n",
    "\n",
    "    lmp.variable('zero equal -0.001')\n",
    "\n",
    "    if stackingfault == \"intrinsic\":\n",
    "        lmp.variable(f'z1 equal {latticeconstant}*8.5*sqrt(3)/3')\n",
    "        lmp.variable(f'z2 equal {latticeconstant}*17.5*sqrt(3)/3') \n",
    "\n",
    "        lmp.lattice(f'fcc {latticeconstant} orient x 1 1 2 orient y -1 1 0 orient z -1 -1 1')\n",
    "\n",
    "        lmp.region('bottom block ${zero} ${x} ${zero} ${y} ${zero} ${z1} units box')\n",
    "        lmp.region('top block ${zero} ${x} ${zero} ${y} ${z1} ${z2} units box')\n",
    "\n",
    "        lmp.region('cell block 0 ${x} 0 ${y} 0 ${z2} units box')\n",
    "\n",
    "        lmp.create_box('1 cell')\n",
    "\n",
    "        lmp.create_atoms('1 region bottom')\n",
    "        lmp.create_atoms('1 region top')\n",
    "\n",
    "    elif stackingfault == \"extrinsic\":\n",
    "        lmp.variable(f'z1 equal {latticeconstant}*8.5*sqrt(3)/3')\n",
    "        lmp.variable(f'z2 equal {latticeconstant}*9.5*sqrt(3)/3')\n",
    "        lmp.variable(f'z3 equal {latticeconstant}*17.5*sqrt(3)/3')\n",
    "\n",
    "        lmp.lattice(f'fcc {latticeconstant} orient x 1 1 2 orient y -1 1 0 orient z -1 -1 1')\n",
    "\n",
    "        lmp.region('bottom block ${zero} ${x} ${zero} ${y} ${zero} ${z1} units box')\n",
    "        lmp.region('middle block ${zero} ${x} ${zero} ${y} ${z1} ${z2} units box')\n",
    "        lmp.region('top block ${zero} ${x} ${zero} ${y} ${z2} ${z3} units box')\n",
    "\n",
    "        lmp.region('cell block 0 ${x} 0 ${y} 0 ${z3} units box')\n",
    "\n",
    "        lmp.create_box('1 cell')\n",
    "\n",
    "        lmp.create_atoms('1 region bottom')\n",
    "        lmp.create_atoms('1 region middle')\n",
    "        lmp.create_atoms('1 region top')\n",
    "\n",
    "    if \"meam\" in potentialpath:\n",
    "        lmp.pair_style('meam')\n",
    "        lmp.pair_coeff(f'* * {libraryfile} {libraryelements} {potentialpath} Ni')\n",
    "    elif \"eam.alloy\" in potentialpath:\n",
    "        lmp.pair_style('eam/alloy')\n",
    "        lmp.pair_coeff(f'* * {potentialpath} Ni')\n",
    "    elif \"eam.fs\" in potentialpath:\n",
    "        lmp.pair_style('eam/fs')\n",
    "        lmp.pair_coeff(f'* * {potentialpath} Ni')\n",
    "    else:\n",
    "        lmp.pair_style('eam')\n",
    "        lmp.pair_coeff(f'* * {potentialpath}')\n",
    "\n",
    "    lmp.compute('Epot all pe/atom')\n",
    "    lmp.compute('Epotall all reduce sum c_Epot')\n",
    "\n",
    "    lmp.thermo(10)\n",
    "    lmp.thermo_style('custom step lx ly lz pe c_Epotall')\n",
    "\n",
    "    lmp.minimize('1e-10 1e-10 10000 100000')\n",
    "    \n",
    "    lmp.variable('E equal \"c_Epotall\"')\n",
    "    lmp.variable('A equal \"lx*ly*1e-20\"')\n",
    "\n",
    "    lmp.variable('Ei equal $E')\n",
    "\n",
    "    if stackingfault == \"intrinsic\":\n",
    "        lmp.group('top region top')\n",
    "\n",
    "        lmp.displace_atoms('top move ${a_to_b} 0 0 units box')\n",
    "\n",
    "    elif stackingfault == \"extrinsic\":\n",
    "        lmp.group('top region top')\n",
    "        lmp.group('middle region middle')\n",
    "\n",
    "        lmp.displace_atoms('middle move ${a_to_b} 0 0 units box')\n",
    "        lmp.displace_atoms('top move ${a_to_c} 0 0 units box')\n",
    "\n",
    "    lmp.fix('1 all setforce 0 0 NULL')\n",
    "\n",
    "    lmp.minimize('1e-10 1e-10 10000 100000')\n",
    "\n",
    "    lmp.variable('Ef equal $E')\n",
    "\n",
    "    lmp.variable('J_to_eV equal 1.60217657e-16')\n",
    "    lmp.variable('Esf_'+sf+' equal ((${Ef}-${Ei})*${J_to_eV})/${A}')\n",
    "\n",
    "    potentialname = potentialpath.replace('potentials/', '')"
   ]
  },
  {
   "cell_type": "raw",
   "metadata": {},
   "source": [
    "results_Ni = []\n",
    "results_NiAl = []\n",
    "results_Ni3Al = []\n",
    "\n",
    "with open('data/01_lattice-constant_Ni.dat') as f:\n",
    "    for line in f:\n",
    "        result = [element.strip() for element in line.split(',')]\n",
    "        results_Ni.append(result)\n",
    "        \n",
    "with open('data/01_lattice-constant_NiAl.dat') as f:\n",
    "    for line in f:\n",
    "        result = [element.strip() for element in line.split(',')]\n",
    "        results_NiAl.append(result)\n",
    "        \n",
    "with open('data/01_lattice-constant_Ni3Al.dat') as f:\n",
    "    for line in f:\n",
    "        result = [element.strip() for element in line.split(',')]\n",
    "        results_Ni3Al.append(result)"
   ]
  },
  {
   "cell_type": "raw",
   "metadata": {},
   "source": [
    "outputfile = \"data/04_stacking-faults.dat\"\n",
    "\n",
    "for file in results_Ni:\n",
    "    potentialpath = \"potentials/\"+file[0]\n",
    "    latticeconstant = round(float(file[2]),2)\n",
    "    \n",
    "    from lammps import PyLammps\n",
    "    lmp = PyLammps()\n",
    "    \n",
    "    for sf in [\"extrinsic\", \"intrinsic\"]:\n",
    "        stackingfault(sf, latticeconstant, outputfile, potentialpath)\n",
    "            \n",
    "    lmp.print(f'\"{file[0]}, '+'${Esf_extrinsic}, ${Esf_intrinsic}\" append '+f'{outputfile} screen no')"
   ]
  },
  {
   "cell_type": "markdown",
   "metadata": {},
   "source": [
    "🏁**FAST RUN DONE!**🏁"
   ]
  }
 ],
 "metadata": {
  "kernelspec": {
   "display_name": "Python 3",
   "language": "python",
   "name": "python3"
  },
  "language_info": {
   "codemirror_mode": {
    "name": "ipython",
    "version": 3
   },
   "file_extension": ".py",
   "mimetype": "text/x-python",
   "name": "python",
   "nbconvert_exporter": "python",
   "pygments_lexer": "ipython3",
   "version": "3.10.5"
  }
 },
 "nbformat": 4,
 "nbformat_minor": 2
}
