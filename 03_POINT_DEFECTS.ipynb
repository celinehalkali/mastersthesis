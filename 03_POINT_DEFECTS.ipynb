{
 "cells": [
  {
   "cell_type": "markdown",
   "metadata": {},
   "source": [
    "# Calculation 03 - Point defect energies\n",
    "The following notebook will calculate the point defect energies of Nickel-based EAM and MEAM potentials. The first cell needs updating depending on the potential file you are using and the compound you want to run the calculation for.\\\n",
    "At the end of the notebook, there is a \"fast run\" which will allow you to run this notebook for all potentials and all phases in one go."
   ]
  },
  {
   "cell_type": "markdown",
   "metadata": {},
   "source": [
    "## 📌 Specify filenames and element related data\n",
    "For any potential, please specify the filename of the potential file as follows:\\\n",
    "`potentials/filename.eam`\\\n",
    "`potentials/filename.eam.fs`\\\n",
    "`potentials/filename.eam.alloy`\\\n",
    "`potentials/filename.meam`\n",
    "\n",
    "Then uncomment the respective lines, depending on which compound you want to run the calculation for.\n",
    "\n",
    "**Note:** to call Non-LAMMPS variables within a LAMMPS command, please use an f-string. To call LAMMPS variables, instead of using an f-string, just use curly braces with a leading dollar sign - like this: `${x}`."
   ]
  },
  {
   "cell_type": "code",
   "execution_count": null,
   "metadata": {},
   "outputs": [],
   "source": [
    "potentialpath = \"potentials/Ni1986.eam\"\n",
    "\n",
    "#pointdefect = \"V_Ni\"\n",
    "#pointdefect = \"Al_Ni\"\n",
    "#pointdefect = \"V_Al\"\n",
    "#pointdefect = \"Ni_Al\"\n",
    "\n",
    "##### insert whichelements, crystalstructure, latticeconstant and outputfile here #####\n",
    "\n",
    "\n",
    "'''\n",
    "#fcc-Ni\n",
    "compound = \"Ni\"\n",
    "whichelements = \"Ni\"\n",
    "crystalstructure = \"fcc\"\n",
    "latticeconstant = 3.52\n",
    "\n",
    "#B2-NiAl\n",
    "compound = \"NiAl\"\n",
    "whichelements = \"Ni Al\"\n",
    "crystalstructure = \"bcc\"\n",
    "latticeconstant = 2.86\n",
    "\n",
    "#L12-Ni3Al\n",
    "compound = \"Ni3Al\"\n",
    "whichelements = \"Ni Al\"\n",
    "crystalstructure = \"fcc\"\n",
    "latticeconstant = 3.56\n",
    "'''\n",
    "\n",
    "outputfile = \"data/03_point-defects_\"+compound+\".dat\""
   ]
  },
  {
   "cell_type": "markdown",
   "metadata": {},
   "source": [
    "## ⬇️ Import PyLammps module"
   ]
  },
  {
   "cell_type": "code",
   "execution_count": null,
   "metadata": {},
   "outputs": [],
   "source": [
    "from lammps import PyLammps\n",
    "lmp = PyLammps()\n",
    "\n",
    "lmp.clear()"
   ]
  },
  {
   "cell_type": "markdown",
   "metadata": {},
   "source": [
    "## ⬇️ Add parameters for MEAM potentials\n",
    "There is no need to change the following cell. It defines two parameters that are necessary for reading in MEAM potentials.\\\n",
    "**Please do note that the libraryelements variable has to contain the element symbols in the same order as they appear in the library file!**"
   ]
  },
  {
   "cell_type": "code",
   "execution_count": null,
   "metadata": {},
   "outputs": [],
   "source": [
    "if \"meam\" in potentialpath:\n",
    "    libraryfile = str(potentialpath.replace('.meam', '.library.meam'))\n",
    "    \n",
    "    if \"NiAlCo2\" in potentialpath:\n",
    "        libraryelements = \"Ni Al Co\"\n",
    "    elif \"NiAl2\" in potentialpath:\n",
    "        libraryelements = \"Al Ni\"\n",
    "    else:\n",
    "        libraryelements = \"Ni\""
   ]
  },
  {
   "cell_type": "markdown",
   "metadata": {},
   "source": [
    "## ⬇️ Initialize simulation\n",
    "`units` sets the unit system for this simulation. \"metal\" units are Angstroms for distance, eV for energy, etc.\\\n",
    "`dimension` is self-explanatory and can either be 2 or 3.\\\n",
    "`boundary` sets the boundary conditions in x-, y- and z-direction. Here, they are periodic in all three dimensions.\\\n",
    "`atom_style` specifies additional attributes depending on the style - \"atomic\" doesn't have any."
   ]
  },
  {
   "cell_type": "code",
   "execution_count": null,
   "metadata": {},
   "outputs": [],
   "source": [
    "lmp.units('metal')\n",
    "lmp.dimension('3')\n",
    "lmp.boundary('p p p')\n",
    "lmp.atom_style('atomic')"
   ]
  },
  {
   "cell_type": "markdown",
   "metadata": {},
   "source": [
    "## ⬇️ Create atoms\n",
    "`lattice` specifies the predefined or customized lattice and the respective lattice constant.\\\n",
    "`region` specifies the simulation cell as a geometric shape, like a sphere, cylinder or block. The default coordinate unit is a \"lattice parameter\", meaning each coordinate is an integer factor times the lattice parameter specified in the `lattice` command. \"cell\" is the user-assigned ID for this specific region, but could also be called \"1\", \"a\" or anything else. For periodic boundary conditions, the cell dimensions should be multiples of the lattice constant to prevent unwanted overlaps (as explained in the documentation for the `create_atoms` command).\\\n",
    "`create_box` actually creates the simulation cell as defined in the `region` command. The integer defines the number of element types that will be used, the string defines the region in which the cell will be created.\\\n",
    "`create_atoms` adds atoms to the lattice within a specific region (\"box\" fills the entire simulation cell defined in the `region` command with atoms), so this has to happen after defining and creating the simulation box. The integer defines the number of element types used. \"basis\" allows to assign coordinates to atom types: the first integer is the coordinate (they can be found in the documentation for the `lattice` command), the second one is the element index in the same order as it will be specified when reading in the potentials (Ni = 1, Al = 2).\n",
    "`replicate` would allow to change the size of the simulation, and in this position is equivalent to changing the coordinates in the `region` command.\n",
    "`mass` does not need to specified for any EAM or MEAM potential since it is used from the potential file itself."
   ]
  },
  {
   "cell_type": "code",
   "execution_count": null,
   "metadata": {},
   "outputs": [],
   "source": [
    "lmp.lattice(f'{crystalstructure} {latticeconstant}')\n",
    "lmp.region('cell block -3 3 -3 3 -3 3')\n",
    "\n",
    "if compound == \"Ni\":\n",
    "    lmp.create_box('1 cell')\n",
    "    lmp.create_atoms('1 box')\n",
    "elif compound == \"NiAl\":\n",
    "    lmp.create_box('2 cell')\n",
    "    lmp.create_atoms('2 box basis 1 1 basis 2 2')\n",
    "elif compound == \"Ni3Al\":\n",
    "    lmp.create_box('2 cell')\n",
    "    lmp.create_atoms('2 box basis 1 2 basis 2 1 basis 3 1 basis 4 1')"
   ]
  },
  {
   "cell_type": "markdown",
   "metadata": {},
   "source": [
    "## ⬇️ Read in potential file\n",
    "`pair_style` specifies what kind of interatomic potential will be used.\\\n",
    "`pair_coeff` specifies the potential file to be read in. The input parameters change depending on the potential style. that the pair potential coefficients are stored in. The first two integers define the force field coefficients between atom pairs. The asterisks include all atom types.\\\n",
    "`neighbor` and `neigh_modify` would set parameters for the neighbor lists - the default parameters when the commands are not used can be found in the LAMMPS documentation."
   ]
  },
  {
   "cell_type": "code",
   "execution_count": null,
   "metadata": {},
   "outputs": [],
   "source": [
    "if \"meam\" in potentialpath:\n",
    "    lmp.pair_style('meam')\n",
    "    lmp.pair_coeff(f'* * {libraryfile} {libraryelements} {potentialpath} {whichelements}')\n",
    "elif \"eam.alloy\" in potentialpath:\n",
    "    lmp.pair_style('eam/alloy')\n",
    "    lmp.pair_coeff(f'* * {potentialpath} {whichelements}')\n",
    "elif \"eam.fs\" in potentialpath:\n",
    "    lmp.pair_style('eam/fs')\n",
    "    lmp.pair_coeff(f'* * {potentialpath} {whichelements}')\n",
    "else:\n",
    "    lmp.pair_style('eam')\n",
    "    lmp.pair_coeff(f'* * {potentialpath}')"
   ]
  },
  {
   "cell_type": "markdown",
   "metadata": {},
   "source": [
    "## ⬇️ Define computes\n",
    "`compute`s define \"formulas\" that can later on be computed at each timestep of e.g. a thermodynamic run, minimization or dump output.\\\n",
    "The first one allows to store the potential energy for each atom during any \"run\".\\\n",
    "The second one uses the first one, summing up the potential energies of all atoms in the system.\\\n",
    "The third one allows to calculate the centro-symmetry parameter."
   ]
  },
  {
   "cell_type": "code",
   "execution_count": null,
   "metadata": {},
   "outputs": [],
   "source": [
    "lmp.compute('Epot all pe/atom')\n",
    "lmp.compute('Epotall all reduce sum c_Epot')\n",
    "lmp.compute('Csym all centro/atom fcc')"
   ]
  },
  {
   "cell_type": "markdown",
   "metadata": {},
   "source": [
    "## ⬇️ Define thermo settings\n",
    "`min_style` would set which minimization algorithm should be used for the minimization. The default value is `cg` - conjugate gradient.\\\n",
    "`thermo` sets the timestep interval at which computes shall be performed and printed during the run.\\\n",
    "`thermo_style` allows to specify what information shall be printed at each of those timesteps - in this case, it is customized to calculate and print the timestep, the length of the simulation box in x, y and z direction, and the total potential energy of the system."
   ]
  },
  {
   "cell_type": "code",
   "execution_count": null,
   "metadata": {},
   "outputs": [],
   "source": [
    "lmp.thermo(10)\n",
    "lmp.thermo_style('custom step lx ly lz c_Epotall')"
   ]
  },
  {
   "cell_type": "markdown",
   "metadata": {},
   "source": [
    "## ⬇️ Define dump file\n",
    "`dump` will print the defined properties in a dump file at the desired timestep interval. With these files, the simulation can be visualized using software like OVITO."
   ]
  },
  {
   "cell_type": "code",
   "execution_count": null,
   "metadata": {},
   "outputs": [],
   "source": [
    "lmp.dump(f'dump all cfg 1000 dump/03_{compound}_{pointdefect}.*.cfg mass type xs ys zs c_Csym c_Epot')\n",
    "lmp.dump_modify(f'dump element {whichelements}')"
   ]
  },
  {
   "cell_type": "markdown",
   "metadata": {},
   "source": [
    "## ⬇️ Run minimization I\n",
    "`minimize`s the energy of the simulation cell, printing out the desired information (as specified in `thermo_style`) at every `thermo(10)`th timestep."
   ]
  },
  {
   "cell_type": "code",
   "execution_count": null,
   "metadata": {},
   "outputs": [],
   "source": [
    "lmp.minimize('1e-10 1e-10 10000 100000')"
   ]
  },
  {
   "cell_type": "markdown",
   "metadata": {},
   "source": [
    "## ⬇️ Define variable formulas\n",
    "This section defines some `variable`s by assigning a variable to a formula that is not yet evaluated.\\\n",
    "The first one is the total number of atoms in the simulation cell N, the second one the total energy of the simulation cell E. "
   ]
  },
  {
   "cell_type": "code",
   "execution_count": null,
   "metadata": {},
   "outputs": [],
   "source": [
    "lmp.variable('N equal count(all)')\n",
    "lmp.variable('E equal c_Epotall')"
   ]
  },
  {
   "cell_type": "markdown",
   "metadata": {},
   "source": [
    "## ⬇️ Calculate properties I\n",
    "Here, the formulas defined above are calculated with the current values of the formula variables and stored in new variables."
   ]
  },
  {
   "cell_type": "code",
   "execution_count": null,
   "metadata": {},
   "outputs": [],
   "source": [
    "lmp.variable('Ni equal ${N}')\n",
    "lmp.variable('Ei equal ${E}')"
   ]
  },
  {
   "cell_type": "markdown",
   "metadata": {},
   "source": [
    "## ⬇️ Generate vacancy\n",
    "A variable calculating the size of the region within which a particle will be removed from is defined. This is done by calculating the radius of one Ni atom. This is pure geometry: the diagonal of the cube face of the fcc unit cell (Pythagoras: r<sup>2</sup>+r<sup>2</sup>) is four atomic radii long.\\\n",
    "`region` defines the region in which atoms will be removed - hence the calculation of the atom size of one atom.\\\n",
    "`delete_atoms` actually deletes the atom(s) in the defined region."
   ]
  },
  {
   "cell_type": "code",
   "execution_count": null,
   "metadata": {},
   "outputs": [],
   "source": [
    "lmp.variable(f'distance equal {latticeconstant}/2')\n",
    "\n",
    "#define region where we can find a nickel atom\n",
    "if pointdefect == \"V_Ni\" or pointdefect == \"Al_Ni\":\n",
    "    \n",
    "    lmp.variable('radius equal sqrt(2)*3.52/4')\n",
    "        \n",
    "    if compound == \"Ni\":        \n",
    "        lmp.region('vacancy sphere 0 0 0 ${radius} units box')\n",
    "\n",
    "    elif compound == \"NiAl\":\n",
    "        lmp.region('vacancy sphere 0 0 0 ${radius} units box')\n",
    "\n",
    "    elif compound == \"Ni3Al\":\n",
    "        lmp.region('vacancy sphere ${distance} ${distance} 0 ${radius} units box')\n",
    "\n",
    "#define region where we can find an aluminum atom\n",
    "elif pointdefect == \"V_Al\" or pointdefect == \"Ni_Al\":\n",
    "    \n",
    "    lmp.variable('radius equal sqrt(2)*4.05/4')\n",
    "    \n",
    "    if compound == \"NiAl\":\n",
    "        lmp.region('vacancy sphere ${distance} ${distance} ${distance} ${radius} units box')\n",
    "\n",
    "    elif compound == \"Ni3Al\":\n",
    "        lmp.region('vacancy sphere 0 0 0 ${radius} units box')\n",
    "\n",
    "#actually delete the atom\n",
    "lmp.delete_atoms('region vacancy compress yes')\n",
    "\n",
    "#put an aluminum atom in the nickel vacancy\n",
    "if pointdefect == \"Al_Ni\":\n",
    "        \n",
    "    if compound == \"NiAl\":\n",
    "        lmp.create_atoms('2 single 0 0 0 units box')\n",
    "\n",
    "    elif compound == \"Ni3Al\":\n",
    "        lmp.create_atoms('2 single ${distance} ${distance} 0 units box')\n",
    "\n",
    "#put a nickel atom in the aluminum vacancy\n",
    "elif pointdefect == \"Ni_Al\":\n",
    "\n",
    "    if compound == \"NiAl\":\n",
    "        lmp.create_atoms('1 single ${distance} ${distance} ${distance} units box')\n",
    "\n",
    "    elif compound == \"Ni3Al\":\n",
    "        lmp.create_atoms('1 single 0 0 0 units box')"
   ]
  },
  {
   "cell_type": "markdown",
   "metadata": {},
   "source": [
    "## ⬇️ Run minimization II\n",
    "`minimize`s the energy of the simulation cell, printing out the desired information (as specified in `thermo_style`) at every `thermo(10)`th timestep."
   ]
  },
  {
   "cell_type": "code",
   "execution_count": null,
   "metadata": {},
   "outputs": [],
   "source": [
    "lmp.minimize('1e-10 1e-10 10000 100000')"
   ]
  },
  {
   "cell_type": "markdown",
   "metadata": {},
   "source": [
    "## ⬇️ Calculate properties II\n",
    "Again, the formulas defined above are calculated with the current values of the formula variables and stored in new variables.\\\n",
    "A third variable, calculating the vacancy formation energy, is defined and will be calculated in the `print` command with the current variable values."
   ]
  },
  {
   "cell_type": "code",
   "execution_count": null,
   "metadata": {},
   "outputs": [],
   "source": [
    "lmp.variable('Nf equal ${N}')\n",
    "lmp.variable('Ef equal ${E}')\n",
    "\n",
    "lmp.variable(f'E_{pointdefect}'+' equal ${Ef}-${Ei}')"
   ]
  },
  {
   "cell_type": "markdown",
   "metadata": {},
   "source": [
    "## ⬇️ Undump\n",
    "Close dump file."
   ]
  },
  {
   "cell_type": "code",
   "execution_count": null,
   "metadata": {},
   "outputs": [],
   "source": [
    "lmp.undump('dump')"
   ]
  },
  {
   "cell_type": "markdown",
   "metadata": {},
   "source": [
    "## ⬇️ Print desired output\n",
    "This section `print`s these values to the output file, for which you chose a filename in the beginning. It prints the filename, the cohesive energy and the lattice parameter of the chosen potential."
   ]
  },
  {
   "cell_type": "code",
   "execution_count": null,
   "metadata": {},
   "outputs": [],
   "source": [
    "potentialname = potentialpath.replace('potentials/', '')\n",
    "\n",
    "lmp.print(f'\"{potentialname}, {pointdefect}'+', ${Ei}, ${Ef}, ${E_'+f'{pointdefect}'+'}\" append '+f'{outputfile} screen no')"
   ]
  },
  {
   "cell_type": "markdown",
   "metadata": {},
   "source": [
    "🏁**ALL DONE!**🏁"
   ]
  },
  {
   "cell_type": "code",
   "execution_count": null,
   "metadata": {},
   "outputs": [],
   "source": [
    "def vacancyformation(compound, whichelements, crystalstructure, latticeconstant, pointdefect, potentialpath):\n",
    "    lmp.clear()\n",
    "\n",
    "    if \"meam\" in potentialpath:\n",
    "        librarypath = str(potentialpath.replace('.meam', '.library.meam'))\n",
    "\n",
    "    if \"NiAlCo2\" in potentialpath:\n",
    "        libraryelements = \"Ni Al Co\"\n",
    "    elif \"NiAl2\" in potentialpath:\n",
    "        libraryelements = \"Al Ni\"\n",
    "    else:\n",
    "        libraryelements = \"Ni\"\n",
    "\n",
    "    lmp.units('metal')\n",
    "    lmp.dimension('3')\n",
    "    lmp.boundary('p p p')\n",
    "    lmp.atom_style('atomic')\n",
    "    \n",
    "    lmp.lattice(f'{crystalstructure} {latticeconstant}')\n",
    "    lmp.region('cell block -3 3 -3 3 -3 3')\n",
    "\n",
    "    if compound == \"Ni\":\n",
    "        lmp.create_box('1 cell')\n",
    "        lmp.create_atoms('1 box')\n",
    "    elif compound == \"NiAl\":\n",
    "            lmp.create_box('2 cell')\n",
    "            lmp.create_atoms('2 box basis 1 1 basis 2 2')\n",
    "    elif compound == \"Ni3Al\":\n",
    "            lmp.create_box('2 cell')\n",
    "            lmp.create_atoms('2 box basis 1 2 basis 2 1 basis 3 1 basis 4 1')\n",
    "    \n",
    "    if \"meam\" in potentialpath:\n",
    "        lmp.pair_style('meam')\n",
    "        lmp.pair_coeff(f'* * {librarypath} {libraryelements} {potentialpath} {whichelements}')\n",
    "    elif \"eam.alloy\" in potentialpath:\n",
    "        lmp.pair_style('eam/alloy')\n",
    "        lmp.pair_coeff(f'* * {potentialpath} {whichelements}')\n",
    "    elif \"eam.fs\" in potentialpath:\n",
    "        lmp.pair_style('eam/fs')\n",
    "        lmp.pair_coeff(f'* * {potentialpath} {whichelements}')\n",
    "    else:\n",
    "        lmp.pair_style('eam')\n",
    "        lmp.pair_coeff(f'* * {potentialpath}')\n",
    "\n",
    "    lmp.compute('Epot all pe/atom')\n",
    "    lmp.compute('Epotall all reduce sum c_Epot')\n",
    "\n",
    "    lmp.reset_timestep(0)\n",
    "\n",
    "    lmp.thermo(10)\n",
    "    lmp.thermo_style('custom step lx ly lz c_Epotall')\n",
    "\n",
    "    lmp.minimize('1e-10 1e-10 10000 100000')\n",
    "    \n",
    "    lmp.variable('N equal count(all)')\n",
    "    lmp.variable('E equal c_Epotall')\n",
    "    \n",
    "    lmp.variable('Ni equal ${N}')\n",
    "    lmp.variable('Ei equal ${E}')\n",
    "    \n",
    "    lmp.variable(f'distance equal {latticeconstant}/2')\n",
    "\n",
    "    if pointdefect == \"V_Ni\" or pointdefect == \"Al_Ni\":\n",
    "        \n",
    "        lmp.variable('radius equal sqrt(2)*3.52/4')\n",
    "\n",
    "        if compound == \"Ni\":\n",
    "            lmp.region('vacancy sphere 0 0 0 ${radius} units box')\n",
    "\n",
    "        elif compound == \"NiAl\":\n",
    "            lmp.region('vacancy sphere 0 0 0 ${radius} units box')\n",
    "\n",
    "        elif compound == \"Ni3Al\":\n",
    "            lmp.region('vacancy sphere ${distance} ${distance} 0 ${radius} units box')\n",
    "\n",
    "    elif pointdefect == \"V_Al\" or pointdefect == \"Ni_Al\":\n",
    "        \n",
    "        lmp.variable('radius equal sqrt(2)*4.05/4')\n",
    "\n",
    "        if compound == \"NiAl\":\n",
    "            lmp.region('vacancy sphere ${distance} ${distance} ${distance} ${radius} units box')\n",
    "\n",
    "        elif compound == \"Ni3Al\":\n",
    "            lmp.region('vacancy sphere 0 0 0 ${radius} units box')\n",
    "\n",
    "    lmp.delete_atoms('region vacancy compress yes')\n",
    "\n",
    "    if pointdefect == \"Al_Ni\":\n",
    "\n",
    "        if compound == \"NiAl\":\n",
    "            lmp.create_atoms('2 single 0 0 0 units box')\n",
    "\n",
    "        elif compound == \"Ni3Al\":\n",
    "            lmp.create_atoms('2 single ${distance} ${distance} 0 units box')\n",
    "\n",
    "    elif pointdefect == \"Ni_Al\":\n",
    "\n",
    "        if compound == \"NiAl\":\n",
    "            lmp.create_atoms('1 single ${distance} ${distance} ${distance} units box')\n",
    "\n",
    "        elif compound == \"Ni3Al\":\n",
    "            lmp.create_atoms('1 single 0 0 0 units box')\n",
    "    \n",
    "    lmp.minimize('1e-10 1e-10 10000 100000')\n",
    "    \n",
    "    lmp.variable('Nf equal ${N}')\n",
    "    lmp.variable('Ef equal ${E}')  \n",
    "    \n",
    "    if compound == \"Ni\":\n",
    "        lmp.variable(f'E_{pointdefect}'+' equal ${Ef}-(${Nf}/${Ni})*${Ei}')\n",
    "            \n",
    "    elif compound == \"NiAl\" or compound == \"Ni3Al\":\n",
    "        lmp.variable(f'E_{pointdefect}'+' equal ${Ef}-${Ei}')"
   ]
  },
  {
   "cell_type": "code",
   "execution_count": null,
   "metadata": {},
   "outputs": [],
   "source": [
    "results_Ni = []\n",
    "results_NiAl = []\n",
    "results_Ni3Al = []\n",
    "\n",
    "with open('data/01_lattice-constant_Ni.dat') as f:\n",
    "    for line in f:\n",
    "        result = [element.strip() for element in line.split(',')]\n",
    "        results_Ni.append(result)\n",
    "        \n",
    "with open('data/01_lattice-constant_NiAl.dat') as f:\n",
    "    for line in f:\n",
    "        result = [element.strip() for element in line.split(',')]\n",
    "        results_NiAl.append(result)\n",
    "        \n",
    "with open('data/01_lattice-constant_Ni3Al.dat') as f:\n",
    "    for line in f:\n",
    "        result = [element.strip() for element in line.split(',')]\n",
    "        results_Ni3Al.append(result)"
   ]
  },
  {
   "cell_type": "code",
   "execution_count": null,
   "metadata": {},
   "outputs": [],
   "source": [
    "all_files = []\n",
    "alloy_files = []\n",
    "\n",
    "cohesiveenergy_NiAl = []\n",
    "cohesiveenergy_Ni3Al = []\n",
    "\n",
    "latticeconstant_Ni = []\n",
    "latticeconstant_NiAl = []\n",
    "latticeconstant_Ni3Al = []\n",
    "\n",
    "for i in range(len(results_Ni)):\n",
    "    potentialname = results_Ni[i][0]\n",
    "    latticeconstant = results_Ni[i][2]\n",
    "    \n",
    "    all_files.append(potentialname)  \n",
    "    latticeconstant_Ni.append(latticeconstant)\n",
    "    \n",
    "for i in range(len(results_NiAl)):\n",
    "    potentialname = results_NiAl[i][0]\n",
    "    cohesiveenergy = results_NiAl[i][1]\n",
    "    latticeconstant = results_NiAl[i][2]\n",
    "    \n",
    "    alloy_files.append(potentialname)\n",
    "    cohesiveenergy_NiAl.append(cohesiveenergy)\n",
    "    latticeconstant_NiAl.append(latticeconstant)\n",
    "    \n",
    "for i in range(len(results_Ni3Al)):\n",
    "    potentialname = results_Ni3Al[i][0]\n",
    "    cohesiveenergy = results_Ni3Al[i][1]\n",
    "    latticeconstant = results_Ni3Al[i][2]\n",
    "    \n",
    "    alloy_files.append(potentialname)\n",
    "    cohesiveenergy_Ni3Al.append(cohesiveenergy)\n",
    "    latticeconstant_Ni3Al.append(latticeconstant)"
   ]
  },
  {
   "cell_type": "code",
   "execution_count": null,
   "metadata": {},
   "outputs": [],
   "source": [
    "for file, lc in zip(all_files, latticeconstant_Ni):\n",
    "    from lammps import PyLammps\n",
    "    lmp = PyLammps()\n",
    "\n",
    "    potentialpath = \"potentials/\"+file\n",
    "    \n",
    "    vacancyformation(\"Ni\", \"Ni\", \"fcc\", lc, \"V_Ni\", potentialpath)\n",
    "\n",
    "    lmp.print(f'\"{file}'+', ${E_V_Ni}\" append data/03_point-defects_Ni.dat screen no')"
   ]
  },
  {
   "cell_type": "code",
   "execution_count": null,
   "metadata": {},
   "outputs": [],
   "source": [
    "compound = [\"NiAl\", \"Ni3Al\"]\n",
    "whichelements = [\"Ni Al\", \"Ni Al\"]\n",
    "crystalstructure = [\"bcc\", \"fcc\"]\n",
    "cohesiveenergies = [cohesiveenergy_NiAl, cohesiveenergy_Ni3Al]\n",
    "latticeconstants = [latticeconstant_NiAl, latticeconstant_Ni3Al]\n",
    "\n",
    "for comp, element, crystal, cohesiveenergy, latticeconstant in zip (compound, whichelements, crystalstructure, cohesiveenergies, latticeconstants):\n",
    "    for file, ecoh, lc in zip(alloy_files, cohesiveenergy, latticeconstant):\n",
    "        \n",
    "        from lammps import PyLammps\n",
    "        lmp = PyLammps()\n",
    "        \n",
    "        potentialpath = \"potentials/\"+file\n",
    "        outputfile = \"data/03_point-defects_\"+comp+\".dat\"\n",
    "                \n",
    "        for pd in [\"V_Ni\", \"Al_Ni\", \"V_Al\", \"Ni_Al\"]:\n",
    "            vacancyformation(comp, element, crystal, lc, pd, potentialpath)\n",
    "            \n",
    "        if comp == \"NiAl\":\n",
    "            lmp.variable('E_eff equal ${E_V_Ni}+'+f'{ecoh}'+'+(${E_Ni_Al}-${E_Al_Ni})/4')\n",
    "\n",
    "        elif comp == \"Ni3Al\":\n",
    "            lmp.variable('E_eff equal ${E_V_Ni}+'+f'{ecoh}'+'+(${E_Ni_Al}-${E_Al_Ni})/8')\n",
    "        \n",
    "        lmp.print(f'\"{file}'+', ${E_V_Ni}, ${E_Al_Ni}, ${E_V_Al}, ${E_Ni_Al}, ${E_eff}\" append '+f'{outputfile} screen no')"
   ]
  },
  {
   "cell_type": "markdown",
   "metadata": {},
   "source": [
    "🏁**FAST RUN DONE!**🏁"
   ]
  }
 ],
 "metadata": {
  "kernelspec": {
   "display_name": "Python 3",
   "language": "python",
   "name": "python3"
  },
  "language_info": {
   "codemirror_mode": {
    "name": "ipython",
    "version": 3
   },
   "file_extension": ".py",
   "mimetype": "text/x-python",
   "name": "python",
   "nbconvert_exporter": "python",
   "pygments_lexer": "ipython3",
   "version": "3.10.5"
  }
 },
 "nbformat": 4,
 "nbformat_minor": 2
}
