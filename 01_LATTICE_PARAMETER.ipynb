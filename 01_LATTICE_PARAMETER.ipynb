{
 "cells": [
  {
   "cell_type": "markdown",
   "metadata": {},
   "source": [
    "# Calculation 01 - Minimum energy lattice parameter\n",
    "This notebook will let you calculate the minimum energy lattice parameters (equilibrium lattice constant and cohesive energy) of Nickel-based EAM and MEAM potentials. The first cell needs updating depending on the potential file you are using and the compound you want to run the calculation for.\\\n",
    "At the end of the notebook, there is a \"fast run\" which will allow you to run this notebook for all potentials and all phases in one go."
   ]
  },
  {
   "cell_type": "markdown",
   "metadata": {},
   "source": [
    "## 📌 Specify filenames and element related data\n",
    "For any potential, please specify the filename of the potential file as follows:\\\n",
    "`potentials/filename.eam`\\\n",
    "`potentials/filename.eam.fs`\\\n",
    "`potentials/filename.eam.alloy`\\\n",
    "`potentials/filename.meam`\n",
    "\n",
    "Then uncomment the respective lines, depending on which compound you want to run the calculation for.\n",
    "\n",
    "**Note:** to call Non-LAMMPS variables within a LAMMPS command, please use an f-string. To call LAMMPS variables, instead of using an f-string, just use curly braces with a leading dollar sign - like this: `${x}`."
   ]
  },
  {
   "cell_type": "code",
   "execution_count": null,
   "metadata": {},
   "outputs": [],
   "source": [
    "potentialpath = \"potentials/Ni1986.eam\"\n",
    "\n",
    "##### insert whichelements, crystalstructure, latticeconstant and outputfile here #####\n",
    "\n",
    "\n",
    "'''\n",
    "#fcc-Ni\n",
    "compound = \"Ni\"\n",
    "whichelements = \"Ni\"\n",
    "crystalstructure = \"fcc\"\n",
    "latticeconstant = 3.52\n",
    "outputfile = \"data/01_lattice-constant_Ni.dat\"\n",
    "\n",
    "#B2-NiAl\n",
    "compound = \"NiAl\"\n",
    "whichelements = \"Ni Al\"\n",
    "crystalstructure = \"bcc\"\n",
    "latticeconstant = 2.86\n",
    "outputfile = \"data/01_lattice-constant_NiAl.dat\"\n",
    "\n",
    "#L12-Ni3Al\n",
    "compound = \"Ni3Al\"\n",
    "whichelements = \"Ni Al\"\n",
    "crystalstructure = \"fcc\"\n",
    "latticeconstant = 3.56\n",
    "outputfile = \"data/01_lattice-constant_Ni3Al.dat\"\n",
    "'''"
   ]
  },
  {
   "cell_type": "markdown",
   "metadata": {},
   "source": [
    "## ⬇️ Import PyLammps module"
   ]
  },
  {
   "cell_type": "code",
   "execution_count": null,
   "metadata": {},
   "outputs": [],
   "source": [
    "from lammps import PyLammps\n",
    "lmp = PyLammps()\n",
    "\n",
    "lmp.clear()"
   ]
  },
  {
   "cell_type": "markdown",
   "metadata": {},
   "source": [
    "## ⬇️ Add parameters for MEAM potentials\n",
    "There is no need to change the following cell. It defines two parameters that are necessary for reading in MEAM potentials.\\\n",
    "**Please do note that the libraryelements variable has to contain the element symbols in the same order as they appear in the library file!**"
   ]
  },
  {
   "cell_type": "code",
   "execution_count": null,
   "metadata": {},
   "outputs": [],
   "source": [
    "if \"meam\" in potentialpath:\n",
    "    libraryfile = str(potentialpath.replace('.meam', '.library.meam'))\n",
    "    \n",
    "    if \"NiAlCo2\" in potentialpath:\n",
    "        libraryelements = \"Ni Al Co\"\n",
    "    elif \"NiAl2\" in potentialpath:\n",
    "        libraryelements = \"Al Ni\"\n",
    "    else:\n",
    "        libraryelements = \"Ni\""
   ]
  },
  {
   "cell_type": "markdown",
   "metadata": {},
   "source": [
    "## ⬇️ Initialize simulation\n",
    "`units` sets the unit system for this simulation. \"metal\" units are Angstroms for distance, eV for energy, etc.\\\n",
    "`dimension` is self-explanatory and can either be 2 or 3.\\\n",
    "`boundary` sets the boundary conditions in x-, y- and z-direction. Here, they are periodic in all three dimensions.\\\n",
    "`atom_style` specifies additional attributes depending on the style - \"atomic\" doesn't have any."
   ]
  },
  {
   "cell_type": "code",
   "execution_count": null,
   "metadata": {},
   "outputs": [],
   "source": [
    "lmp.units('metal')\n",
    "lmp.dimension('3')\n",
    "lmp.boundary('p p p')\n",
    "lmp.atom_style('atomic')"
   ]
  },
  {
   "cell_type": "markdown",
   "metadata": {},
   "source": [
    "## ⬇️ Create atoms\n",
    "`lattice` specifies the predefined or customized lattice and the respective lattice constant.\\\n",
    "`region` specifies the simulation cell as a geometric shape, like a sphere, cylinder or block. The default coordinate unit is a \"lattice parameter\", meaning each coordinate is an integer factor times the lattice parameter specified in the `lattice` command. \"cell\" is the user-assigned ID for this specific region, but could also be called \"1\", \"a\" or anything else. For periodic boundary conditions, the cell dimensions should be multiples of the lattice constant to prevent unwanted overlaps (as explained in the documentation for the `create_atoms` command).\\\n",
    "`create_box` actually creates the simulation cell as defined in the `region` command. The integer defines the number of element types that will be used, the string defines the region in which the cell will be created.\\\n",
    "`create_atoms` adds atoms to the lattice within a specific region (\"box\" fills the entire simulation cell defined in the `region` command with atoms), so this has to happen after defining and creating the simulation box. The integer defines the number of element types used. \"basis\" allows to assign coordinates to atom types: the first integer is the coordinate (they can be found in the documentation for the `lattice` command), the second one is the element index in the same order as it will be specified when reading in the potentials (Ni = 1, Al = 2).\n",
    "`replicate` would allow to change the size of the simulation, and in this position is equivalent to changing the coordinates in the `region` command.\n",
    "`mass` does not need to specified for any EAM or MEAM potential since it is used from the potential file itself."
   ]
  },
  {
   "cell_type": "code",
   "execution_count": null,
   "metadata": {},
   "outputs": [],
   "source": [
    "lmp.lattice(f'{crystalstructure} {latticeconstant}')\n",
    "lmp.region('cell block 0 1 0 1 0 1')\n",
    "        \n",
    "if compound == \"Ni\":\n",
    "    lmp.create_box('1 cell')\n",
    "    lmp.create_atoms('1 box')\n",
    "elif compound == \"NiAl\":\n",
    "        lmp.create_box('2 cell')\n",
    "        lmp.create_atoms('2 box basis 1 1 basis 2 2')\n",
    "elif compound == \"Ni3Al\":\n",
    "        lmp.create_box('2 cell')\n",
    "        lmp.create_atoms('2 box basis 1 2 basis 2 1 basis 3 1 basis 4 1')"
   ]
  },
  {
   "cell_type": "markdown",
   "metadata": {},
   "source": [
    "## ⬇️ Read in potential file\n",
    "`pair_style` specifies what kind of interatomic potential will be used.\\\n",
    "`pair_coeff` specifies the potential file to be read in. The input parameters change depending on the potential style. that the pair potential coefficients are stored in. The first two integers define the force field coefficients between atom pairs. The asterisks include all atom types.\\\n",
    "`neighbor` and `neigh_modify` would set parameters for the neighbor lists - the default parameters when the commands are not used can be found in the LAMMPS documentation."
   ]
  },
  {
   "cell_type": "code",
   "execution_count": null,
   "metadata": {},
   "outputs": [],
   "source": [
    "if \"meam\" in potentialpath:\n",
    "    lmp.pair_style('meam')\n",
    "    lmp.pair_coeff(f'* * {libraryfile} {libraryelements} {potentialpath} {whichelements}')\n",
    "elif \"eam.alloy\" in potentialpath:\n",
    "    lmp.pair_style('eam/alloy')\n",
    "    lmp.pair_coeff(f'* * {potentialpath} {whichelements}')\n",
    "elif \"eam.fs\" in potentialpath:\n",
    "    lmp.pair_style('eam/fs')\n",
    "    lmp.pair_coeff(f'* * {potentialpath} {whichelements}')\n",
    "else:\n",
    "    lmp.pair_style('eam')\n",
    "    lmp.pair_coeff(f'* * {potentialpath}')"
   ]
  },
  {
   "cell_type": "markdown",
   "metadata": {},
   "source": [
    "## ⬇️ Define computes\n",
    "`compute`s define \"formulas\" that can later on be computed at each timestep of e.g. a thermodynamic run, minimization or dump output.\\\n",
    "The first one allows to store the potential energy for each atom during any \"run\".\\\n",
    "The second one uses the first one, summing up the potential energies of all atoms in the system.\\\n",
    "The third one allows to calculate the centro-symmetry parameter."
   ]
  },
  {
   "cell_type": "code",
   "execution_count": null,
   "metadata": {},
   "outputs": [],
   "source": [
    "lmp.compute('Epot all pe/atom')\n",
    "lmp.compute('Epotall all reduce sum c_Epot')\n",
    "lmp.compute('Csym all centro/atom fcc')"
   ]
  },
  {
   "cell_type": "markdown",
   "metadata": {},
   "source": [
    "## ⬇️ Define thermo settings\n",
    "`min_style` would set which minimization algorithm should be used for the minimization. The default value is `cg` - conjugate gradient.\\\n",
    "`thermo` sets the timestep interval at which computes shall be performed and printed during the run.\\\n",
    "`thermo_style` allows to specify what information shall be printed at each of those timesteps - in this case, it is customized to calculate and print the timestep, the length of the simulation box in x, y and z direction, and the total potential energy of the system."
   ]
  },
  {
   "cell_type": "code",
   "execution_count": null,
   "metadata": {},
   "outputs": [],
   "source": [
    "lmp.thermo(10)\n",
    "lmp.thermo_style('custom step lx ly lz c_Epotall')"
   ]
  },
  {
   "cell_type": "markdown",
   "metadata": {},
   "source": [
    "## ⬇️ Define dump file\n",
    "`dump` will print the defined properties in a dump file at the desired timestep interval. With these files, the simulation can be visualized using software like OVITO."
   ]
  },
  {
   "cell_type": "code",
   "execution_count": null,
   "metadata": {},
   "outputs": [],
   "source": [
    "lmp.dump(f'dump all cfg 1000 dump/01_{compound}.*.cfg mass type xs ys zs c_Csym c_Epot')\n",
    "lmp.dump_modify(f'dump element {whichelements}')"
   ]
  },
  {
   "cell_type": "markdown",
   "metadata": {},
   "source": [
    "## ⬇️ Define fix\n",
    "`fix` applies specific operations to a specified group of atoms (in this case, `all` of them). Here, the operation is to relax the entire simulation cell (`box/relax`), using the parameters `iso 0.0` (zero pressure in all directions) and `vmax 0.001` (volume change of the simulation box smaller than 0.1 % during each step)."
   ]
  },
  {
   "cell_type": "code",
   "execution_count": null,
   "metadata": {},
   "outputs": [],
   "source": [
    "lmp.fix('1 all box/relax iso 0.0 vmax 0.001')"
   ]
  },
  {
   "cell_type": "markdown",
   "metadata": {},
   "source": [
    "## ⬇️ Run minimization\n",
    "`minimize`s the energy of the simulation cell, using the parameters defined in `fix(1)` and printing out the desired information (as specified in `thermo_style`) at every `thermo(10)`th timestep."
   ]
  },
  {
   "cell_type": "code",
   "execution_count": null,
   "metadata": {},
   "outputs": [],
   "source": [
    "lmp.minimize('1e-10 1e-10 10000 100000')"
   ]
  },
  {
   "cell_type": "markdown",
   "metadata": {},
   "source": [
    "## ⬇️ Define variable formulas\n",
    "This section defines some `variable`s by assigning a variable to a formula that is not yet evaluated. The first one is the cohesive energy E<sub>coh</sub>, which is the total potential energy E<sub>pot</sub> divided by the total number of atoms N, the second one is the length of the simulation cell (=equilibrium lattice constant) a.\\\n",
    "They will be calculated in the `print` command with the current variable values."
   ]
  },
  {
   "cell_type": "code",
   "execution_count": null,
   "metadata": {},
   "outputs": [],
   "source": [
    "lmp.variable('Ecoh equal c_Epotall/count(all)')\n",
    "lmp.variable('latticeparameter equal lx')"
   ]
  },
  {
   "cell_type": "markdown",
   "metadata": {},
   "source": [
    "## ⬇️ Undump\n",
    "Close dump file."
   ]
  },
  {
   "cell_type": "code",
   "execution_count": null,
   "metadata": {},
   "outputs": [],
   "source": [
    "lmp.undump('dump')"
   ]
  },
  {
   "cell_type": "markdown",
   "metadata": {},
   "source": [
    "## ⬇️ Print desired output\n",
    "This section `print`s these values to the output file, for which you chose a filename in the beginning. It prints the filename, the cohesive energy and the lattice parameter of the chosen potential."
   ]
  },
  {
   "cell_type": "code",
   "execution_count": null,
   "metadata": {},
   "outputs": [],
   "source": [
    "potentialname = potentialpath.replace('potentials/', '')\n",
    "\n",
    "lmp.print(f'\"{potentialname}'+', ${Ecoh}, ${latticeparameter}\" append '+f'{outputfile} screen no')"
   ]
  },
  {
   "cell_type": "markdown",
   "metadata": {},
   "source": [
    "🏁**ALL DONE!**🏁"
   ]
  },
  {
   "cell_type": "code",
   "execution_count": null,
   "metadata": {},
   "outputs": [],
   "source": [
    "def latticeparameter(compound, whichelements, crystalstructure, latticeconstant, outputfile, potentialpath):\n",
    "    lmp.clear()\n",
    "\n",
    "    if \"meam\" in potentialpath:\n",
    "        librarypath = str(potentialpath.replace('.meam', '.library.meam'))\n",
    "\n",
    "    if \"NiAlCo2\" in potentialpath:\n",
    "        libraryelements = \"Ni Al Co\"\n",
    "    elif \"NiAl2\" in potentialpath:\n",
    "        libraryelements = \"Al Ni\"\n",
    "    else:\n",
    "        libraryelements = \"Ni\"\n",
    "\n",
    "    lmp.units('metal')\n",
    "    lmp.dimension('3')\n",
    "    lmp.boundary('p p p')\n",
    "    lmp.atom_style('atomic')\n",
    "\n",
    "    lmp.lattice(f'{crystalstructure} {latticeconstant}')\n",
    "    lmp.region('cell block 0 1 0 1 0 1')\n",
    "\n",
    "    if compound == \"Ni\":\n",
    "        lmp.create_box('1 cell')\n",
    "        lmp.create_atoms('1 box')\n",
    "    elif compound == \"NiAl\":\n",
    "            lmp.create_box('2 cell')\n",
    "            lmp.create_atoms('2 box basis 1 1 basis 2 2')\n",
    "    elif compound == \"Ni3Al\":\n",
    "            lmp.create_box('2 cell')\n",
    "            lmp.create_atoms('2 box basis 1 2 basis 2 1 basis 3 1 basis 4 1')\n",
    "    \n",
    "    if \"meam\" in potentialpath:\n",
    "        lmp.pair_style('meam')\n",
    "        lmp.pair_coeff(f'* * {librarypath} {libraryelements} {potentialpath} {whichelements}')\n",
    "    elif \"eam.alloy\" in potentialpath:\n",
    "        lmp.pair_style('eam/alloy')\n",
    "        lmp.pair_coeff(f'* * {potentialpath} {whichelements}')\n",
    "    elif \"eam.fs\" in potentialpath:\n",
    "        lmp.pair_style('eam/fs')\n",
    "        lmp.pair_coeff(f'* * {potentialpath} {whichelements}')\n",
    "    else:\n",
    "        lmp.pair_style('eam')\n",
    "        lmp.pair_coeff(f'* * {potentialpath}')\n",
    "\n",
    "    lmp.compute('Epot all pe/atom')\n",
    "    lmp.compute('Epotall all reduce sum c_Epot')\n",
    "\n",
    "    lmp.reset_timestep(0)\n",
    "\n",
    "    lmp.min_style('cg')\n",
    "\n",
    "    lmp.thermo(10)\n",
    "    lmp.thermo_style('custom step lx ly lz c_Epotall')\n",
    "\n",
    "    lmp.fix('1 all box/relax iso 0.0 vmax 0.001')\n",
    "\n",
    "    lmp.minimize('1e-10 1e-10 10000 100000')\n",
    "\n",
    "    lmp.variable('Ecoh equal c_Epotall/count(all)')\n",
    "    lmp.variable('latticeparameter equal lx')"
   ]
  },
  {
   "cell_type": "code",
   "execution_count": null,
   "metadata": {},
   "outputs": [],
   "source": [
    "all_files = [\n",
    "    \"Ni1986.eam\",\n",
    "    \"Ni1989.eam\",\n",
    "    \"Ni1987.eam.fs\",\n",
    "    \"Ni2012.eam.fs\",\n",
    "    \"Ni1999.eam.alloy\",\n",
    "    \"Ni2004.eam.alloy\",\n",
    "    \"Ni2016.eam.alloy\",\n",
    "    \"NiAl2002.eam.alloy\",\n",
    "    \"NiAl2004.eam.alloy\",\n",
    "    \"NiAl2009.eam.alloy\",\n",
    "    \"NiAlCo2015.eam.alloy\",\n",
    "    \"NiAlCoCrFe2020.eam.alloy\",\n",
    "    \"Ni2003.meam\",\n",
    "    \"Ni2015.meam\",\n",
    "    \"Ni2018.meam\",\n",
    "    \"NiAl2007.meam\",\n",
    "    \"NiAl2022.meam\",\n",
    "    \"NiAlCo2015.meam\"\n",
    "]\n",
    "\n",
    "alloy_files = [\n",
    "    \"NiAl2002.eam.alloy\",\n",
    "    \"NiAl2004.eam.alloy\",\n",
    "    \"NiAl2009.eam.alloy\",\n",
    "    \"NiAlCo2015.eam.alloy\",\n",
    "    \"NiAlCoCrFe2020.eam.alloy\",\n",
    "    \"NiAl2007.meam\",\n",
    "    \"NiAl2022.meam\",\n",
    "    \"NiAlCo2015.meam\"\n",
    "]"
   ]
  },
  {
   "cell_type": "code",
   "execution_count": null,
   "metadata": {},
   "outputs": [],
   "source": [
    "compound =  [\"Ni\", \"NiAl\", \"Ni3Al\"]\n",
    "whichelements = [\"Ni\", \"Ni Al\", \"Ni Al\"]\n",
    "crystalstructure = [\"fcc\", \"bcc\", \"fcc\"]\n",
    "latticeconstant =  [3.52, 2.86, 3.56]\n",
    "outputfile = [\"data/01_lattice-constant_Ni.dat\", \"data/01_lattice-constant_NiAl.dat\", \"data/01_lattice-constant_Ni3Al.dat\"]\n",
    "filelist =  [all_files, alloy_files, alloy_files]\n",
    "\n",
    "for comp, element, crystal, lc, outputfile, files in zip (compound, whichelements, crystalstructure, latticeconstant, outputfile, filelist):\n",
    "    \n",
    "    for file in files:\n",
    "        potentialpath = \"potentials/\"+file\n",
    "        \n",
    "        from lammps import PyLammps\n",
    "        lmp = PyLammps()\n",
    "\n",
    "        latticeparameter(comp, element, crystal, lc, outputfile, potentialpath)\n",
    "        \n",
    "        potentialname = potentialpath.replace('potentials/', '')\n",
    "        lmp.print(f'\"{potentialname}'+', ${Ecoh}, ${latticeparameter}\" append '+f'{outputfile} screen no')"
   ]
  },
  {
   "cell_type": "markdown",
   "metadata": {},
   "source": [
    "🏁**FAST RUN DONE!**🏁"
   ]
  }
 ],
 "metadata": {
  "kernelspec": {
   "display_name": "Python 3",
   "language": "python",
   "name": "python3"
  },
  "language_info": {
   "codemirror_mode": {
    "name": "ipython",
    "version": 3
   },
   "file_extension": ".py",
   "mimetype": "text/x-python",
   "name": "python",
   "nbconvert_exporter": "python",
   "pygments_lexer": "ipython3",
   "version": "3.10.5"
  }
 },
 "nbformat": 4,
 "nbformat_minor": 2
}
