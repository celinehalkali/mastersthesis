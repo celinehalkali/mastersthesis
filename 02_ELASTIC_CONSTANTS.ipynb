{
 "cells": [
  {
   "cell_type": "markdown",
   "metadata": {},
   "source": [
    "# Calculation 02 - Elastic constants\n",
    "The following notebook will calculate the elastic constants of Nickel-based EAM and MEAM potentials. The first cell needs updating depending on the potential file you are using and the compound you want to run the calculation for.\\\n",
    "At the end of the notebook, there is a \"fast run\" which will allow you to run this notebook for all potentials and all phases in one go."
   ]
  },
  {
   "cell_type": "markdown",
   "metadata": {},
   "source": [
    "## 📌 Specify filenames and element related data\n",
    "For any potential, please specify the filename of the potential file as follows:\\\n",
    "`potentials/filename.eam`\\\n",
    "`potentials/filename.eam.fs`\\\n",
    "`potentials/filename.eam.alloy`\\\n",
    "`potentials/filename.meam`\n",
    "\n",
    "Then uncomment the respective lines, depending on which compound you want to run the calculation for.\n",
    "\n",
    "**Note:** to call Non-LAMMPS variables within a LAMMPS command, please use an f-string. To call LAMMPS variables, instead of using an f-string, just use curly braces with a leading dollar sign - like this: `${x}`."
   ]
  },
  {
   "cell_type": "code",
   "execution_count": null,
   "metadata": {},
   "outputs": [],
   "source": [
    "potentialpath = \"potentials/Ni1986.eam\"\n",
    "\n",
    "##### insert whichelements, crystalstructure, latticeconstant and outputfile here #####\n",
    "\n",
    "\n",
    "'''\n",
    "#fcc-Ni\n",
    "compound = \"Ni\"\n",
    "whichelements = \"Ni\"\n",
    "crystalstructure = \"fcc\"\n",
    "latticeconstant = 3.52\n",
    "outputfile = \"data/02_elastic-constants_Ni.dat\"\n",
    "\n",
    "#B2-NiAl\n",
    "compound = \"NiAl\"\n",
    "whichelements = \"Ni Al\"\n",
    "crystalstructure = \"bcc\"\n",
    "latticeconstant = 2.86\n",
    "outputfile = \"data/02_elastic-constants_NiAl.dat\"\n",
    "\n",
    "#L12-Ni3Al\n",
    "compound = \"Ni3Al\"\n",
    "whichelements = \"Ni Al\"\n",
    "crystalstructure = \"fcc\"\n",
    "latticeconstant = 3.56\n",
    "outputfile = \"data/02_elastic-constants_Ni3Al.dat\"\n",
    "'''"
   ]
  },
  {
   "cell_type": "markdown",
   "metadata": {},
   "source": [
    "## ⬇️ Import PyLammps module"
   ]
  },
  {
   "cell_type": "code",
   "execution_count": null,
   "metadata": {},
   "outputs": [],
   "source": [
    "from lammps import PyLammps\n",
    "lmp = PyLammps()\n",
    "\n",
    "lmp.clear()"
   ]
  },
  {
   "cell_type": "markdown",
   "metadata": {},
   "source": [
    "## ⬇️ Add parameters for MEAM potentials\n",
    "There is no need to change the following cell. It defines two parameters that are necessary for reading in MEAM potentials.\\\n",
    "**Please do note that the libraryelements variable has to contain the element symbols in the same order as they appear in the library file!**"
   ]
  },
  {
   "cell_type": "code",
   "execution_count": null,
   "metadata": {},
   "outputs": [],
   "source": [
    "if \"meam\" in potentialpath:\n",
    "    libraryfile = str(potentialpath.replace('.meam', '.library.meam'))\n",
    "\n",
    "    if \"NiAlCo2\" in potentialpath:\n",
    "        libraryelements = \"Ni Al Co\"\n",
    "    elif \"NiAl2\" in potentialpath:\n",
    "        libraryelements = \"Al Ni\"\n",
    "    else:\n",
    "        libraryelements = \"Ni\"\n",
    "else:\n",
    "    libraryfile = 0\n",
    "    libraryelements = 0"
   ]
  },
  {
   "cell_type": "markdown",
   "metadata": {},
   "source": [
    "## ⬇️ Initialize simulation\n",
    "`units` sets the unit system for this simulation. \"metal\" units are Angstroms for distance, eV for energy, etc.\\\n",
    "`dimension` is self-explanatory and can either be 2 or 3.\\\n",
    "`boundary` sets the boundary conditions in x-, y- and z-direction. Here, they are periodic in all three dimensions.\\\n",
    "`atom_style` specifies additional attributes depending on the style - \"atomic\" doesn't have any."
   ]
  },
  {
   "cell_type": "code",
   "execution_count": null,
   "metadata": {},
   "outputs": [],
   "source": [
    "lmp.units('metal')\n",
    "lmp.dimension('3')\n",
    "lmp.boundary('p p p')\n",
    "lmp.atom_style('atomic')"
   ]
  },
  {
   "cell_type": "markdown",
   "metadata": {},
   "source": [
    "## ⬇️ Create atoms\n",
    "`lattice` specifies the predefined or customized lattice and the respective lattice constant.\\\n",
    "`region` specifies the simulation cell as a geometric shape, like a sphere, cylinder or block. The default coordinate unit is a \"lattice parameter\", meaning each coordinate is an integer factor times the lattice parameter specified in the `lattice` command. \"cell\" is the user-assigned ID for this specific region, but could also be called \"1\", \"a\" or anything else. For periodic boundary conditions, the cell dimensions should be multiples of the lattice constant to prevent unwanted overlaps (as explained in the documentation for the `create_atoms` command).\\\n",
    "`create_box` actually creates the simulation cell as defined in the `region` command. The integer defines the number of element types that will be used, the string defines the region in which the cell will be created.\\\n",
    "`create_atoms` adds atoms to the lattice within a specific region (\"box\" fills the entire simulation cell defined in the `region` command with atoms), so this has to happen after defining and creating the simulation box. The integer defines the number of element types used. \"basis\" allows to assign coordinates to atom types: the first integer is the coordinate (they can be found in the documentation for the `lattice` command), the second one is the element index in the same order as it will be specified when reading in the potentials (Ni = 1, Al = 2).\n",
    "`replicate` would allow to change the size of the simulation, and in this position is equivalent to changing the coordinates in the `region` command.\n",
    "`mass` does not need to specified for any EAM or MEAM potential since it is used from the potential file itself."
   ]
  },
  {
   "cell_type": "code",
   "execution_count": null,
   "metadata": {},
   "outputs": [],
   "source": [
    "lmp.lattice(f'{crystalstructure} {latticeconstant}')\n",
    "lmp.region('cell prism 0 5 0 5 0 5 0 0 0')\n",
    "\n",
    "if compound == \"Ni\":\n",
    "    lmp.create_box('1 cell')\n",
    "    lmp.create_atoms('1 box')\n",
    "elif compound == \"NiAl\":\n",
    "        lmp.create_box('2 cell')\n",
    "        lmp.create_atoms('2 box basis 1 1 basis 2 2')\n",
    "elif compound == \"Ni3Al\":\n",
    "        lmp.create_box('2 cell')\n",
    "        lmp.create_atoms('2 box basis 1 2 basis 2 1 basis 3 1 basis 4 1')"
   ]
  },
  {
   "cell_type": "markdown",
   "metadata": {},
   "source": [
    "## ⬇️ Define function: Read in potential file \n",
    "`pair_style` specifies what kind of interatomic potential will be used.\\\n",
    "`pair_coeff` specifies the potential file to be read in. The input parameters change depending on the potential style. that the pair potential coefficients are stored in. The first two integers define the force field coefficients between atom pairs. The asterisks include all atom types.\\\n",
    "`neighbor` and `neigh_modify` would set parameters for the neighbor lists - the default parameters when the commands are not used can be found in the LAMMPS documentation."
   ]
  },
  {
   "cell_type": "code",
   "execution_count": null,
   "metadata": {},
   "outputs": [],
   "source": [
    "def potential(libraryfile, libraryelements, potentialpath, whichelements):\n",
    "    if \"meam\" in potentialpath:\n",
    "        lmp.pair_style('meam')\n",
    "        lmp.pair_coeff(f'* * {libraryfile} {libraryelements} {potentialpath} {whichelements}')\n",
    "    elif \"eam.alloy\" in potentialpath:\n",
    "        lmp.pair_style('eam/alloy')\n",
    "        lmp.pair_coeff(f'* * {potentialpath} {whichelements}')\n",
    "    elif \"eam.fs\" in potentialpath:\n",
    "        lmp.pair_style('eam/fs')\n",
    "        lmp.pair_coeff(f'* * {potentialpath} {whichelements}')\n",
    "    else:\n",
    "        lmp.pair_style('eam')\n",
    "        lmp.pair_coeff(f'* * {potentialpath}')"
   ]
  },
  {
   "cell_type": "markdown",
   "metadata": {},
   "source": [
    "## ⬇️ Read in potential file"
   ]
  },
  {
   "cell_type": "code",
   "execution_count": null,
   "metadata": {},
   "outputs": [],
   "source": [
    "potential(libraryfile, libraryelements, potentialpath, whichelements)"
   ]
  },
  {
   "cell_type": "markdown",
   "metadata": {},
   "source": [
    "## ⬇️ Define thermo settings\n",
    "Storing the input parameters for the energy minimization as the `minimize` command is used multiple times in this script.\\\n",
    "`min_style` would set which minimization algorithm should be used for the minimization. The default value is `cg` - conjugate gradient.\\\n",
    "`min_modify` defines the distance an atom can travel during the conjugate gradient energy minimization.\\\n",
    "`thermo` sets the timestep interval at which computes shall be performed and printed during the run.\\\n",
    "`thermo_style` allows to specify what information shall be printed at each of those timesteps - in this case, it is customized to calculate and print the timestep, the length of the simulation box in x, y and z direction, the total pressure, the xx/yy/zz/xy/xz/yz components of the pressure tensor and the total volume of the system."
   ]
  },
  {
   "cell_type": "code",
   "execution_count": null,
   "metadata": {},
   "outputs": [],
   "source": [
    "lmp.variable('etol equal 0.0') \n",
    "lmp.variable('ftol equal 1.0e-10')\n",
    "lmp.variable('maxiter equal 100')\n",
    "lmp.variable('maxeval equal 1000')\n",
    "\n",
    "lmp.variable('up equal 1.0e-6')"
   ]
  },
  {
   "cell_type": "code",
   "execution_count": null,
   "metadata": {},
   "outputs": [],
   "source": [
    "lmp.min_modify('dmax 1.0e-2')\n",
    "\n",
    "lmp.thermo('10')\n",
    "lmp.thermo_style('custom step temp pe lx ly lz press pxx pyy pzz pxy pxz pyz vol')"
   ]
  },
  {
   "cell_type": "markdown",
   "metadata": {},
   "source": [
    "## ⬇️ Define fix\n",
    "`fix` applies specific operations to a specified group of atoms (in this case, `all` of them). Here, the operation is to relax the entire simulation cell (`box/relax`), using the parameter `aniso 0.0` (pressure in each direction is independent of the other)."
   ]
  },
  {
   "cell_type": "code",
   "execution_count": null,
   "metadata": {},
   "outputs": [],
   "source": [
    "lmp.fix('1 all box/relax aniso 0.0')"
   ]
  },
  {
   "cell_type": "markdown",
   "metadata": {},
   "source": [
    "## ⬇️ Run minimization\n",
    "`minimize`s the energy of the simulation cell, using the parameters defined in `fix(1)` and printing out the desired information (as specified in `thermo_style`) at every `thermo(10)`th timestep."
   ]
  },
  {
   "cell_type": "code",
   "execution_count": null,
   "metadata": {},
   "outputs": [],
   "source": [
    "lmp.minimize('${etol} ${ftol} ${maxiter} ${maxeval}')"
   ]
  },
  {
   "cell_type": "markdown",
   "metadata": {},
   "source": [
    "## ⬇️ Calculate initial stress tensor components"
   ]
  },
  {
   "cell_type": "code",
   "execution_count": null,
   "metadata": {},
   "outputs": [],
   "source": [
    "pressures = ['pxx', 'pyy', 'pzz', 'pyz', 'pxz', 'pxy']\n",
    "lengths = ['lx', 'ly', 'lz']\n",
    "\n",
    "for p in pressures:\n",
    "    lmp.variable('tmp equal '+p)\n",
    "    lmp.variable(p+'0 equal ${tmp}')\n",
    "\n",
    "for l in lengths:\n",
    "    lmp.variable('tmp equal '+l)\n",
    "    lmp.variable(l+'0 equal ${tmp}')\n",
    "\n",
    "for i, p in enumerate(pressures):\n",
    "    lmp.variable('d'+str(i+1)+' equal -(v_'+p+'1-${'+p+'0})*(1e-4)/(v_delta/v_len0)')"
   ]
  },
  {
   "cell_type": "markdown",
   "metadata": {},
   "source": [
    "## ⬇️ Displace atoms randomly"
   ]
  },
  {
   "cell_type": "code",
   "execution_count": null,
   "metadata": {},
   "outputs": [],
   "source": [
    "lmp.displace_atoms('all random 1.0e-5 1.0e-5 1.0e-5 100 units box')"
   ]
  },
  {
   "cell_type": "markdown",
   "metadata": {},
   "source": [
    "## ⬇️ Define unfix\n",
    "`unfix` terminates previously defined fix. "
   ]
  },
  {
   "cell_type": "code",
   "execution_count": null,
   "metadata": {},
   "outputs": [],
   "source": [
    "lmp.unfix('1')"
   ]
  },
  {
   "cell_type": "markdown",
   "metadata": {},
   "source": [
    "## ⬇️ Write equilibrium restart file"
   ]
  },
  {
   "cell_type": "code",
   "execution_count": null,
   "metadata": {},
   "outputs": [],
   "source": [
    "lmp.write_restart('restart.equil')"
   ]
  },
  {
   "cell_type": "markdown",
   "metadata": {},
   "source": [
    "## ⬇️ Define function: Perform displacements"
   ]
  },
  {
   "cell_type": "code",
   "execution_count": null,
   "metadata": {},
   "outputs": [],
   "source": [
    "def displacement(posneg, dir_ext, libraryfile, libraryelements, potentialpath, whichelements):\n",
    "    # Reset box and simulation parameters\n",
    "    lmp.clear()\n",
    "    lmp.box('tilt large')\n",
    "    lmp.read_restart('restart.equil')\n",
    "    \n",
    "    potential(libraryfile, libraryelements, potentialpath, whichelements)\n",
    "    \n",
    "    lmp.min_modify('dmax 1.0e-2')\n",
    "\n",
    "    lmp.thermo('10')\n",
    "    lmp.thermo_style('custom step temp pe lx ly lz press pxx pyy pzz pxy pxz pyz vol')\n",
    "    \n",
    "    if posneg == \"neg\":\n",
    "        prefactor = -1\n",
    "    elif posneg == \"pos\":\n",
    "        prefactor = 1\n",
    "        \n",
    "    lmp.variable('delta equal '+str(prefactor)+'*${up}*${len0}')\n",
    "    lmp.variable('deltaxy equal '+str(prefactor)+'*${up}*xy')\n",
    "    lmp.variable('deltaxz equal '+str(prefactor)+'*${up}*xz')\n",
    "    lmp.variable('deltayz equal '+str(prefactor)+'*${up}*yz')\n",
    "    \n",
    "    if dir_ext == 1:\n",
    "        lmp.change_box('all x delta 0 ${delta} xy delta ${deltaxy} xz delta ${deltaxz} remap units box')   \n",
    "    elif dir_ext == 2:\n",
    "        lmp.change_box('all y delta 0 ${delta} yz delta ${deltayz} remap units box')\n",
    "    elif dir_ext == 3:\n",
    "        lmp.change_box('all z delta 0 ${delta} remap units box')\n",
    "    elif dir_ext == 4:\n",
    "        lmp.change_box('all yz delta ${delta} remap units box')\n",
    "    elif dir_ext == 5:\n",
    "        lmp.change_box('all xz delta ${delta} remap units box') \n",
    "    elif dir_ext == 6:\n",
    "        lmp.change_box('all xy delta ${delta} remap units box') \n",
    "\n",
    "    #Relax atoms positions\n",
    "    lmp.minimize('${etol} ${ftol} ${maxiter} ${maxeval}')\n",
    "\n",
    "    #Obtain new stress tensor\n",
    "    pressures = ['pxx', 'pyy', 'pzz', 'pyz', 'pxz', 'pxy']\n",
    "    \n",
    "    for p in pressures:\n",
    "        lmp.variable('tmp equal '+p)\n",
    "        lmp.variable(p+'1 equal ${tmp}')\n",
    "\n",
    "    #Compute elastic constant from pressure tensor            \n",
    "    for i in range(1,7):\n",
    "        if posneg == \"neg\":\n",
    "            lmp.variable('C'+str(i)+'neg equal ${d'+str(i)+'}')\n",
    "        elif posneg == \"pos\":\n",
    "            lmp.variable('C'+str(i)+'pos equal ${d'+str(i)+'}')"
   ]
  },
  {
   "cell_type": "markdown",
   "metadata": {},
   "source": [
    "## ⬇️ Perform displacements"
   ]
  },
  {
   "cell_type": "code",
   "execution_count": null,
   "metadata": {},
   "outputs": [],
   "source": [
    "all_len0 = ['lx0', 'ly0', 'lz0', 'lz0', 'lz0', 'ly0']\n",
    "\n",
    "for i, len0 in enumerate(all_len0):\n",
    "    dir_ext = i+1\n",
    "    \n",
    "    lmp.variable('len0 equal ${'+str(len0)+'}')\n",
    "    \n",
    "    displacement(\"neg\", dir_ext, libraryfile, libraryelements, potentialpath, whichelements)\n",
    "    displacement(\"pos\", dir_ext, libraryfile, libraryelements, potentialpath, whichelements)\n",
    "        \n",
    "    for i in range(1,7):\n",
    "        lmp.variable('C'+str(i)+str(dir_ext)+' equal 0.5*(${C'+str(i)+'neg}+${C'+str(i)+'pos})')"
   ]
  },
  {
   "cell_type": "markdown",
   "metadata": {},
   "source": [
    "## ⬇️ Calculate properties\n",
    "This section defines all the components of the stress tensor as `variable`s and then averages those for cubic crystals."
   ]
  },
  {
   "cell_type": "code",
   "execution_count": null,
   "metadata": {},
   "outputs": [],
   "source": [
    "lmp.variable('c11all equal ${C11}')\n",
    "lmp.variable('c22all equal ${C22}')\n",
    "lmp.variable('c33all equal ${C33}')\n",
    "lmp.variable('c44all equal ${C44}')\n",
    "lmp.variable('c55all equal ${C55}')\n",
    "lmp.variable('c66all equal ${C66}')\n",
    "\n",
    "lmp.variable('c12all equal 0.5*(${C12}+${C21})')\n",
    "lmp.variable('c13all equal 0.5*(${C13}+${C31})')\n",
    "lmp.variable('c23all equal 0.5*(${C23}+${C32})')\n",
    "\n",
    "lmp.variable('C11 equal (${c11all}+${c22all}+${c33all})/3')\n",
    "lmp.variable('C12 equal (${c12all}+${c13all}+${c23all})/3')\n",
    "lmp.variable('C44 equal (${c44all}+${c55all}+${c66all})/3')\n",
    "\n",
    "lmp.variable('bulk equal (${C11}+2*${C12})/3')\n",
    "\n",
    "lmp.variable('shear_voigt equal (${C11}-${C12}+(3*${C44}))/5')\n",
    "lmp.variable('shear_reuss equal 5/((4/(${C11}-${C12}))+(3/${C44}))')\n",
    "lmp.variable('shear_vrh equal (${shear_reuss}+${shear_voigt})/2')\n",
    "\n",
    "lmp.variable('young equal 9*${bulk}*${shear_vrh}/(3*${bulk}+${shear_vrh})')\n",
    "\n",
    "lmp.variable('poisson equal (3*${bulk}-2*${shear_vrh})/(6*${bulk}+2*${shear_vrh})')"
   ]
  },
  {
   "cell_type": "markdown",
   "metadata": {},
   "source": [
    "## ⬇️ Print desired output\n",
    "This section `print`s these values to the output file, for which you chose a filename in the beginning."
   ]
  },
  {
   "cell_type": "code",
   "execution_count": null,
   "metadata": {},
   "outputs": [],
   "source": [
    "potentialname = potentialpath.replace('potentials/', '')\n",
    "\n",
    "lmp.print(f'\"{potentialname}'+', ${C11}, ${C12}, ${C44}, ${bulk}, ${shear_vrh}, ${young}, ${poisson}\" append '+f'{outputfile} screen no')"
   ]
  },
  {
   "cell_type": "markdown",
   "metadata": {},
   "source": [
    "🏁**ALL DONE!**🏁"
   ]
  },
  {
   "cell_type": "code",
   "execution_count": null,
   "metadata": {},
   "outputs": [],
   "source": [
    "#please execute the two \"define function\" cells before starting the fast run!"
   ]
  },
  {
   "cell_type": "code",
   "execution_count": null,
   "metadata": {},
   "outputs": [],
   "source": [
    "def elasticconstants(compound, whichelements, crystalstructure, latticeconstant, outputfile, potentialpath):\n",
    "    lmp.clear()\n",
    "        \n",
    "    if \"meam\" in potentialpath:\n",
    "        libraryfile = str(potentialpath.replace('.meam', '.library.meam'))\n",
    "\n",
    "        if \"NiAlCo2\" in potentialpath:\n",
    "            libraryelements = \"Ni Al Co\"\n",
    "        elif \"NiAl2\" in potentialpath:\n",
    "            libraryelements = \"Al Ni\"\n",
    "        else:\n",
    "            libraryelements = \"Ni\"\n",
    "    else:\n",
    "        libraryfile = 0\n",
    "        libraryelements = 0\n",
    "    \n",
    "    lmp.units('metal')\n",
    "    lmp.dimension('3')\n",
    "    lmp.boundary('p p p')\n",
    "    lmp.atom_style('atomic')\n",
    "        \n",
    "    lmp.lattice(f'{crystalstructure} {latticeconstant}')\n",
    "    lmp.region(f'cell prism 0 5 0 5 0 5 0 0 0')\n",
    "\n",
    "    if compound == \"Ni\":\n",
    "        lmp.create_box('1 cell')\n",
    "        lmp.create_atoms('1 box')\n",
    "    elif compound == \"NiAl\":\n",
    "            lmp.create_box('2 cell')\n",
    "            lmp.create_atoms('2 box basis 1 1 basis 2 2')\n",
    "    elif compound == \"Ni3Al\":\n",
    "            lmp.create_box('2 cell')\n",
    "            lmp.create_atoms('2 box basis 1 2 basis 2 1 basis 3 1 basis 4 1')\n",
    "    \n",
    "    potential(libraryfile, libraryelements, potentialpath, whichelements)\n",
    "\n",
    "    lmp.variable('etol equal 0.0') \n",
    "    lmp.variable('ftol equal 1.0e-10')\n",
    "    lmp.variable('maxiter equal 100')\n",
    "    lmp.variable('maxeval equal 1000')\n",
    "\n",
    "    lmp.variable('up equal 1.0e-6')\n",
    "    \n",
    "    lmp.min_modify('dmax 1.0e-2')\n",
    "\n",
    "    lmp.thermo('10')\n",
    "    lmp.thermo_style('custom step temp pe lx ly lz press pxx pyy pzz pxy pxz pyz vol')\n",
    "\n",
    "    lmp.fix('1 all box/relax aniso 0.0')\n",
    "\n",
    "    lmp.minimize('${etol} ${ftol} ${maxiter} ${maxeval}')\n",
    "\n",
    "    pressures = ['pxx', 'pyy', 'pzz', 'pyz', 'pxz', 'pxy']\n",
    "    lengths = ['lx', 'ly', 'lz']\n",
    "    \n",
    "    for p in pressures:\n",
    "        lmp.variable('tmp equal '+p)\n",
    "        lmp.variable(p+'0 equal ${tmp}')\n",
    "    \n",
    "    for l in lengths:\n",
    "        lmp.variable('tmp equal '+l)\n",
    "        lmp.variable(l+'0 equal ${tmp}')\n",
    "\n",
    "    for i, p in enumerate(pressures):\n",
    "        lmp.variable('d'+str(i+1)+' equal -(v_'+p+'1-${'+p+'0})*(1e-4)/(v_delta/v_len0)')\n",
    "\n",
    "    lmp.displace_atoms('all random 1.0e-5 1.0e-5 1.0e-5 100 units box')\n",
    "\n",
    "    lmp.unfix('1')\n",
    "\n",
    "    lmp.write_restart('restart.equil')\n",
    "\n",
    "    all_len0 = ['lx0', 'ly0', 'lz0', 'lz0', 'lz0', 'ly0']\n",
    "\n",
    "    for i, len0 in enumerate(all_len0):\n",
    "        dir_ext = i+1\n",
    "\n",
    "        lmp.variable('len0 equal ${'+str(len0)+'}')\n",
    "\n",
    "        displacement(\"neg\", dir_ext, libraryfile, libraryelements, potentialpath, whichelements)\n",
    "        displacement(\"pos\", dir_ext, libraryfile, libraryelements, potentialpath, whichelements)\n",
    "\n",
    "        for i in range(1,7):\n",
    "            lmp.variable('C'+str(i)+str(dir_ext)+' equal 0.5*(${C'+str(i)+'neg}+${C'+str(i)+'pos})')\n",
    "\n",
    "    lmp.variable('C11all equal ${C11}')\n",
    "    lmp.variable('C22all equal ${C22}')\n",
    "    lmp.variable('C33all equal ${C33}')\n",
    "    lmp.variable('C44all equal ${C44}')\n",
    "    lmp.variable('C55all equal ${C55}')\n",
    "    lmp.variable('C66all equal ${C66}')\n",
    "\n",
    "    lmp.variable('C12all equal 0.5*(${C12}+${C21})')\n",
    "    lmp.variable('C13all equal 0.5*(${C13}+${C31})')\n",
    "    lmp.variable('C23all equal 0.5*(${C23}+${C32})')\n",
    "\n",
    "    lmp.variable('C11cubic equal (${C11all}+${C22all}+${C33all})/3')\n",
    "    lmp.variable('C12cubic equal (${C12all}+${C13all}+${C23all})/3')\n",
    "    lmp.variable('C44cubic equal (${C44all}+${C55all}+${C66all})/3')\n",
    "\n",
    "    lmp.variable('bulkmodulus equal (${C11cubic}+2*${C12cubic})/3')\n",
    "\n",
    "    lmp.variable('shear_voigt equal (${C11cubic}-${C12cubic}+(3*${C44cubic}))/5')\n",
    "    lmp.variable('shear_reuss equal 5/((4/(${C11cubic}-${C12cubic}))+(3/${C44cubic}))')\n",
    "    lmp.variable('shear_vrh equal (${shear_reuss}+${shear_voigt})/2')\n",
    "\n",
    "    lmp.variable('young equal 9*${bulk}*${shear_vrh}/(3*${bulk}+${shear_vrh})')\n",
    "\n",
    "    lmp.variable('poisson_poly equal (3*${bulk}-2*${shear_vrh})/(6*${bulk}+2*${shear_vrh})')\n",
    "    \n",
    "    potentialname = potentialpath.replace('potentials/', '')\n",
    "\n",
    "    lmp.print(f'\"{potentialname}'+', ${C11cubic}, ${C12cubic}, ${C44cubic}, ${bulk}, ${shear_vrh}, ${young}, ${poisson_poly}\" append '+f'{outputfile} screen no')"
   ]
  },
  {
   "cell_type": "code",
   "execution_count": null,
   "metadata": {},
   "outputs": [],
   "source": [
    "results_Ni = []\n",
    "results_NiAl = []\n",
    "results_Ni3Al = []\n",
    "\n",
    "with open('data/01_lattice-constant_Ni.dat') as f:\n",
    "    for line in f:\n",
    "        result = [element.strip() for element in line.split(',')]\n",
    "        results_Ni.append(result)\n",
    "        \n",
    "with open('data/01_lattice-constant_NiAl.dat') as f:\n",
    "    for line in f:\n",
    "        result = [element.strip() for element in line.split(',')]\n",
    "        results_NiAl.append(result)\n",
    "        \n",
    "with open('data/01_lattice-constant_Ni3Al.dat') as f:\n",
    "    for line in f:\n",
    "        result = [element.strip() for element in line.split(',')]\n",
    "        results_Ni3Al.append(result)"
   ]
  },
  {
   "cell_type": "code",
   "execution_count": null,
   "metadata": {},
   "outputs": [],
   "source": [
    "all_files = []\n",
    "alloy_files = []\n",
    "\n",
    "cohesiveenergy_Ni = []\n",
    "cohesiveenergy_NiAl = []\n",
    "cohesiveenergy_Ni3Al = []\n",
    "\n",
    "latticeconstant_Ni = []\n",
    "latticeconstant_NiAl = []\n",
    "latticeconstant_Ni3Al = []\n",
    "\n",
    "for i in range(len(results_Ni)):\n",
    "    potentialname = results_Ni[i][0]\n",
    "    cohesiveenergy = results_Ni[i][1]\n",
    "    latticeconstant = results_Ni[i][2]\n",
    "    \n",
    "    all_files.append(potentialname)  \n",
    "    latticeconstant_Ni.append(latticeconstant)\n",
    "    \n",
    "for i in range(len(results_NiAl)):\n",
    "    potentialname = results_NiAl[i][0]\n",
    "    cohesiveenergy = results_NiAl[i][1]\n",
    "    latticeconstant = results_NiAl[i][2]\n",
    "    \n",
    "    alloy_files.append(potentialname)\n",
    "    latticeconstant_NiAl.append(latticeconstant)\n",
    "    \n",
    "for i in range(len(results_Ni3Al)):\n",
    "    potentialname = results_Ni3Al[i][0]\n",
    "    cohesiveenergy = results_Ni3Al[i][1]\n",
    "    latticeconstant = results_Ni3Al[i][2]\n",
    "    \n",
    "    alloy_files.append(potentialname)\n",
    "    latticeconstant_Ni3Al.append(latticeconstant)"
   ]
  },
  {
   "cell_type": "code",
   "execution_count": null,
   "metadata": {},
   "outputs": [],
   "source": [
    "compound = [\"Ni\", \"NiAl\", \"Ni3Al\"]\n",
    "whichelements = [\"Ni\", \"Ni Al\", \"Ni Al\"]\n",
    "crystalstructure = [\"fcc\", \"bcc\", \"fcc\"]\n",
    "latticeconstants = [latticeconstant_Ni, latticeconstant_NiAl, latticeconstant_Ni3Al]\n",
    "filelist = [all_files, alloy_files, alloy_files]\n",
    "\n",
    "for comp, element, crystal, latticeconstant, files in zip (compound, whichelements, crystalstructure, latticeconstants, filelist):\n",
    "    for file, lc in zip(files, latticeconstant):\n",
    "        \n",
    "        from lammps import PyLammps\n",
    "        lmp = PyLammps()\n",
    "        \n",
    "        potentialpath = \"potentials/\"+file\n",
    "        outputfile = \"data/02_elastic-properties_\"+comp+\".dat\"\n",
    "                        \n",
    "        elasticconstants(comp, element, crystal, lc, outputfile, potentialpath)"
   ]
  },
  {
   "cell_type": "markdown",
   "metadata": {},
   "source": [
    "🏁**FAST RUN DONE!**🏁"
   ]
  }
 ],
 "metadata": {
  "kernelspec": {
   "display_name": "Python 3",
   "language": "python",
   "name": "python3"
  },
  "language_info": {
   "codemirror_mode": {
    "name": "ipython",
    "version": 3
   },
   "file_extension": ".py",
   "mimetype": "text/x-python",
   "name": "python",
   "nbconvert_exporter": "python",
   "pygments_lexer": "ipython3",
   "version": "3.10.5"
  }
 },
 "nbformat": 4,
 "nbformat_minor": 2
}
